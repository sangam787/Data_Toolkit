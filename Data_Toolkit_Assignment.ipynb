{
  "nbformat": 4,
  "nbformat_minor": 0,
  "metadata": {
    "colab": {
      "provenance": []
    },
    "kernelspec": {
      "name": "python3",
      "display_name": "Python 3"
    },
    "language_info": {
      "name": "python"
    }
  },
  "cells": [
    {
      "cell_type": "markdown",
      "source": [
        "# **Data Toolkit**\n",
        "# **Assignment Questions**"
      ],
      "metadata": {
        "id": "Ft3CTU3YeDG6"
      }
    },
    {
      "cell_type": "markdown",
      "source": [
        "# Que-1 What is NumPy, and why is it widely used in Python?\n",
        "# **Ans-1**\n",
        "\n",
        "NumPy, or \"numerical Python\", is a free, open-source library for Python that adds support for large, multi-dimensional arrays and mathematical functions. It's used for scientific computing, and is the base for other libraries like Pandas, Scikit-learn, and SciPy.\n",
        "\n",
        "Here are some reasons why NumPy is used in Python:\n",
        "\n",
        "1. Fast numeric computation\n",
        "\n",
        "NumPy is faster than regular Python arrays because it's written in optimized and pre-compiled C code.\n",
        "\n",
        "2. Vectorized arrays\n",
        "\n",
        "NumPy arrays are vectorized, which means they don't have explicit looping or array indexing.\n",
        "\n",
        "3. Fixed array size\n",
        "\n",
        "NumPy arrays have a fixed size at creation, unlike Python lists which can grow dynamically.\n",
        "\n",
        "4. Homogeneous data types\n",
        "\n",
        "The elements in a NumPy array are all required to be of the same data type.\n",
        "\n",
        "5. High-level mathematical functions\n",
        "\n",
        "NumPy includes a collection of high-level mathematical functions, including:\n",
        "\n",
        "\n",
        "* Basic linear algebraist item\n",
        "* Random simulation\n",
        "\n",
        "* Fourier transforms\n",
        "\n",
        "* Trigonometric operations\n",
        "\n",
        "* Statistical operations\n",
        "* Shape manipulation\n",
        "\n",
        "\n",
        "* Sorting\n",
        "\n",
        "\n",
        "* Selection\n",
        "\n",
        "\n",
        "\n",
        "\n",
        "\n",
        "\n",
        "\n",
        "\n",
        "\n",
        "\n"
      ],
      "metadata": {
        "id": "9bdIt-gMf9BU"
      }
    },
    {
      "cell_type": "markdown",
      "source": [
        "# Que-2 How does broadcasting work in NumPy?\n",
        "# **Ans-2**\n",
        "\n",
        "Broadcasting is a powerful mechanism in NumPy that allows you to perform arithmetic operations between arrays of different shapes, as long as their dimensions are compatible. It avoids the need for explicit loops and can significantly speed up computations.\n",
        "\n",
        "Here's a breakdown of how broadcasting works:\n",
        "\n",
        "**Rules of Broadcasting**\n",
        "\n",
        "1. Shape Compatibility: Broadcasting is triggered when NumPy encounters arrays with different shapes during an arithmetic operation. It compares the shapes element-wise, starting with the trailing (rightmost) dimensions and working its way backward.\n",
        "\n",
        "2. Dimension Matching: Two dimensions are compatible for broadcasting if:\n",
        " * They are equal, or\n",
        "\n",
        " * One of them is 1.\n",
        "\n",
        "3. Array Expansion: If the dimensions are compatible but not equal, NumPy automatically expands the smaller array to match the shape of the larger array by virtually repeating its elements along the missing dimensions.\n",
        "\n",
        "4. Element-wise Operation: Once the arrays have compatible shapes, NumPy performs the arithmetic operation element-wise, as if they had the same shape."
      ],
      "metadata": {
        "id": "5l1fBcwXifC-"
      }
    },
    {
      "cell_type": "markdown",
      "source": [
        "# Que-3 What is a Pandas DataFrame?\n",
        "# **Ans-3**\n",
        "**Pandas DataFrame** is two-dimensional size-mutable, potentially heterogeneous tabular data structure with labeled axes (rows and columns). A Data frame is a two-dimensional data structure, i.e., data is aligned in a tabular fashion in rows and columns. Pandas DataFrame consists of three principal components, the data, rows, and columns.\n",
        "\n",
        "**Creating a Pandas DataFrame**\n",
        "\n",
        "Pandas DataFrame will be created by loading the datasets from existing storage, storage can be SQL Database, CSV file, and Excel file. Pandas DataFrame can be created from the lists, dictionary, and from a list of dictionary etc."
      ],
      "metadata": {
        "id": "JzqgwuNrmtPK"
      }
    },
    {
      "cell_type": "markdown",
      "source": [
        "# Que-4 Explain the use of the groupby() method in Pandas.\n",
        "# **Ans-4**\n",
        "\n",
        "Pandas dataframe.groupby() Method\n",
        "\n",
        "Pandas groupby() function is a powerful tool used to split a DataFrame into groups based on one or more columns, allowing for efficient data analysis and aggregation. It follows a “split-apply-combine” strategy, where data is divided into groups, a function is applied to each group, and the results are combined into a new DataFrame.\n",
        "\n",
        "The groupby() function in Pandas involves three main steps: Splitting, Applying, and Combining.\n",
        "\n",
        "* **Splitting**: This step involves dividing the DataFrame into groups based on some criteria. The groups are defined by unique values in one or more columns.\n",
        "\n",
        "* **Applying**: In this step, a function is applied to each group independently. You can apply various functions to each group, such as:\n",
        " *   Aggregation: Calculate summary statistics (e.g., sum, mean, count) for each group.\n",
        " *   Transformation: Modify the values within each group.\n",
        " *   Filtering: Keep or discard groups based on certain conditions.\n",
        "\n",
        "* **Combining**: Finally, the results of the applied function are combined into a new DataFrame or Series."
      ],
      "metadata": {
        "id": "fsENhqpRnBAg"
      }
    },
    {
      "cell_type": "markdown",
      "source": [
        "# Que-5 Why is Seaborn preferred for statistical visualizations?\n",
        "# **Ans-5**\n",
        "\n",
        "\n",
        "Seaborn simplifies the process of creating complex visualizations by providing built-in functions for common statistical plots, making it easier and quicker to generate attractive and informative graphics with less code.\n",
        "\n",
        "Seaborn enhances Matplotlib by offering a higher-level interface that is more user-friendly, especially for those who need to perform statistical data visualization. It comes with several built-in themes and color palettes, which make it easier to produce aesthetically pleasing plots without extensive customization. Seaborn is particularly useful for visualizing statistical relationships, distributions, and trends in data, as it provides specialized plots like violin plots, pair plots, and heatmaps that are not as straightforward to create with Matplotlib.\n",
        "\n",
        "Another advantage of Seaborn is its seamless integration with Pandas, a powerful data manipulation library in Python. This integration allows users to work directly with data frames, making it simpler to handle and visualize complex datasets. Seaborn's functions are designed to work well with data frames, enabling quick and efficient data visualization, which is especially beneficial for data exploration and analysis.\n",
        "\n",
        "However, Matplotlib still holds significant advantages in terms of flexibility and control. For highly customized and detailed plots, Matplotlib provides a more comprehensive set of tools and options. It is also the underlying engine that Seaborn relies on, which means any plot created with Seaborn can be further customized using Matplotlib's extensive capabilities.\n",
        "\n",
        "In summary, Seaborn is often preferred over Matplotlib for statistical data visualization due to its simplicity, ease of use, and attractive default aesthetics. However, for more detailed and highly customized visualizations, Matplotlib remains the more powerful tool."
      ],
      "metadata": {
        "id": "BwbE4g9IoeCF"
      }
    },
    {
      "cell_type": "markdown",
      "source": [
        "# Que-6 What are the differences between NumPy arrays and Python lists?\n",
        "# **Ans-6**\n",
        "**Numpy Arrays**\n",
        "1. **Homogeneous Data**: NumPy arrays store elements of the same data type, making them more compact and memory-efficient than lists.\n",
        "2. **Fixed Data Type**: NumPy arrays have a fixed data type, reducing memory overhead by eliminating the need to store type information for each element.\n",
        "3. **Contiguous Memory**: NumPy arrays store elements in adjacent memory locations, reducing fragmentation and allowing for efficient access.\n",
        "4. **Array Metadata**: NumPy arrays have extra metadata like shape, strides, and data type. However, this overhead is usually smaller than the per-element overhead in lists.\n",
        "5. **Performance**: NumPy arrays are optimized for numerical computations, with efficient element-wise operations and mathematical functions. These operations are implemented in C, resulting in faster performance than equivalent operations on lists.\n",
        "\n",
        "\n",
        "\n",
        "\n",
        "**Python Lists**\n",
        "\n",
        "1. **Element Overhead**: Lists in Python store additional information about each element, such as its type and reference count. This overhead can be significant when dealing with a large number of elements.\n",
        "2. **Datatype**: Lists can hold different data types, but this can decrease memory efficiency and slow numerical operations.\n",
        "3. **Memory Fragmentation**: Lists may not store elements in contiguous memory locations, causing memory fragmentation and inefficiency.\n",
        "4. **Performance**: Lists are not optimized for numerical computations and may have slower mathematical operations due to Python’s interpretation overhead. They are generally used as general-purpose data structures.\n",
        "5. **Functionality**: Lists can store any data type, but lack specialized NumPy functions for numerical operations."
      ],
      "metadata": {
        "id": "1I8gRECIsUJ7"
      }
    },
    {
      "cell_type": "markdown",
      "source": [
        "# Que-7 What is a heatmap, and when should it be used?\n",
        "# Ans-**7**\n",
        "\n",
        "\n",
        "\n",
        "A heatmap is a graphical representation of data where the individual values contained in a matrix are represented as colors. It is essentially a data visualization technique that uses color to show the magnitude of a phenomenon.\n",
        "\n",
        "\n",
        "\n",
        "**Heatmaps are best used when you want to**:\n",
        "\n",
        "**Visualize Correlation**: Heatmaps are often used to visualize the correlation between multiple variables. The strength of the correlation is represented by the intensity of the color.\n",
        "\n",
        "**Display Patterns**: Heatmaps can be used to identify patterns and trends in data. By visualizing the data as a heatmap, it becomes easier to spot areas of high and low activity.\n",
        "\n",
        "**Show the distribution of data**: Heatmaps can be used to show how data is distributed across a range of values. For example, a heatmap could be used to show the distribution of temperatures across a geographic area.\n",
        "\n",
        "**Compare data across categories**: Heatmaps can be used to compare data across different categories. For example, a heatmap could be used to compare the sales figures for different products in different regions.\n",
        "\n",
        "**Identify areas of interest**: Heatmaps can be used to identify areas of interest in data. By visualizing the data as a heatmap, it becomes easier to spot areas that require further investigation."
      ],
      "metadata": {
        "id": "519l3mhTtXcA"
      }
    },
    {
      "cell_type": "markdown",
      "source": [
        "# Que-8 What does the term “vectorized operation” mean in NumPy?\n",
        "# **Ans-8**\n",
        "\n",
        "**Vectorized operations** in NumPy refer to performing operations on entire arrays rather than individual elements. This approach leverages optimized, pre-compiled code written in low-level languages like C, resulting in significantly faster computations compared to traditional looping methods."
      ],
      "metadata": {
        "id": "potL86cFvljy"
      }
    },
    {
      "cell_type": "markdown",
      "source": [
        "# Que-9 How does Matplotlib differ from Plotly?\n",
        "# **Ans-9**\n",
        "\n",
        "# **Matplotlib**\n",
        "\n",
        "**Description**: It's a widely used plotting library in Python that provides a comprehensive range of static, interactive, and animated visualizations in Python.\n",
        "\n",
        "**Focus**: Primarily focuses on generating static plots for publications and reports. It is suitable for creating a wide variety of static visualizations.\n",
        "\n",
        "**Interactivity**: Offers limited interactive features. Users can zoom, pan, and interact with plots to some extent, but the options are not as extensive as in Plotly.\n",
        "\n",
        "**Customization**: Highly customizable, offering fine-grained control over every aspect of the plot.\n",
        "\n",
        "**Flexibility**: Matplotlib is very flexible in the sense that you can pretty much control every aspect of a plot. This also makes it a more complex library to use.\n",
        "\n",
        "**Usage**: Ideal for creating static, publication-quality plots with high customization options.\n",
        "\n",
        "**Output**: Static images (e.g., PNG, JPG, PDF).\n",
        "\n",
        "\n",
        "# **Plotly**\n",
        "\n",
        "\n",
        "**Description**: A modern plotting library that creates interactive and web-based visualizations. It's known for its ability to generate visually appealing and dynamic plots that can be easily shared and embedded in web applications.\n",
        "\n",
        "**Focus**: Primarily creates interactive, web-based visualizations. Its focus is on creating dynamic and interactive charts for web applications and dashboards.\n",
        "\n",
        "**Interactivity**: Highly interactive plots with features like zooming, panning, hovering, and tooltips for exploring data. These features make Plotly charts suitable for online data analysis and reporting.\n",
        "\n",
        "**Customization**: Offers a range of customization options, but they might not be as extensive as Matplotlib's.\n",
        "\n",
        "**Flexibility**: Plotly charts are often easier to create compared to Matplotlib plots. However, the user does not have as much control over the chart as they do in Matplotlib.\n",
        "\n",
        "**Usage**: Suitable for creating interactive, web-based visualizations for dashboards, presentations, and data exploration.\n",
        "\n",
        "**Output**: Interactive HTML plots that can be embedded in web pages.\n"
      ],
      "metadata": {
        "id": "itNw20pivlvr"
      }
    },
    {
      "cell_type": "markdown",
      "source": [
        "# Que-10 What is the significance of hierarchical indexing in Pandas?\n",
        "# **Ans-10**\n",
        "\n",
        "Hierarchical indexing, also known as multi-level indexing, is a powerful feature in Pandas that allows you to have multiple index levels on an axis (rows or columns). This means you can organize and analyze data with multiple dimensions in a more intuitive and efficient way. Here are some key benefits:\n",
        "\n",
        "1. Representing Multi-dimensional Data:\n",
        "\n",
        "* Hierarchical indexing enables you to store and manipulate data with more than two dimensions within the familiar two-dimensional structure of a DataFrame.\n",
        "* You can represent data that has inherent hierarchical relationships, like categories and subcategories, or data with multiple dimensions like time, location, and product.\n",
        "2. Intuitive Data Selection and Slicing:\n",
        "\n",
        "* Hierarchical indexing provides a way to easily select and slice data based on multiple criteria.\n",
        "* You can use index labels at different levels to access specific subsets of data without complex filtering or querying.\n",
        "3. Improved Data Aggregation and Analysis:\n",
        "\n",
        "* Hierarchical indexing simplifies data aggregation and analysis by allowing you to group and summarize data based on multiple index levels.\n",
        "* This is especially useful for performing operations like calculating group statistics, pivoting data, and generating reports.\n",
        "4. Data Reshaping and Transformation:\n",
        "\n",
        "* Hierarchical indexing can be used to reshape and transform data for analysis.\n",
        "* Operations like stacking and unstacking data can be performed using hierarchical index levels.\n",
        "5. Enhanced Data Exploration and Visualization:\n",
        "\n",
        "* Hierarchical indexing facilitates data exploration and visualization by providing a structured way to navigate and understand complex datasets.\n",
        "* You can use hierarchical index levels to create more informative plots and charts that showcase the relationships between different data dimensions."
      ],
      "metadata": {
        "id": "YziMiXMsvl56"
      }
    },
    {
      "cell_type": "markdown",
      "source": [
        "# Que-11 What is the role of Seaborn’s pairplot() function?\n",
        "# **Ans-11**\n",
        "\n",
        "**Seaborn's** pairplot() **function** is used to create a grid of scatter plots for all pairs of numerical features in a dataset. It's a great tool for quickly visualizing relationships between multiple variables and identifying patterns, correlations, and potential outliers.\n",
        "\n",
        "Here's a breakdown of its role:\n",
        "\n",
        "1. Visualizing Relationships: The primary role of pairplot() is to visualize the relationships between different numerical features in your dataset. It creates scatter plots for each pair of features, allowing you to see how they are related.\n",
        "\n",
        "2. Identifying Patterns: By looking at the scatter plots, you can quickly identify patterns and trends in your data. For example, you might see a linear relationship between two features, or you might see clusters of data points.\n",
        "\n",
        "3. Detecting Correlations: pairplot() helps you detect correlations between features. A strong positive correlation would be indicated by points clustered along a diagonal line from bottom-left to top-right. A strong negative correlation would be indicated by points clustered along a diagonal line from top-left to bottom-right.\n",
        "\n",
        "4. Finding Outliers: Outliers are data points that are significantly different from the rest of the data. pairplot() can help you identify potential outliers by showing you data points that are far away from the main cluster of points.\n",
        "\n",
        "5. Data Exploration: pairplot() is a useful tool for data exploration. It can help you quickly get a sense of the relationships between different features in your dataset and identify areas for further investigation."
      ],
      "metadata": {
        "id": "MThABj1qvmC6"
      }
    },
    {
      "cell_type": "markdown",
      "source": [
        "# Que-12 What is the purpose of the describe() function in Pandas?\n",
        "# **Ans-12**\n",
        "\n",
        "The describe() function in Pandas is used to generate descriptive statistics of a DataFrame or a Series. It provides a summary of central tendency, dispersion, and shape of the distribution of numerical data.\n",
        "\n",
        "Here's a breakdown:\n",
        "\n",
        "**Purpose**:\n",
        "\n",
        "**Summary Statistics**: It calculates and displays common statistical measures like count, mean, standard deviation, minimum, maximum, and quartiles (25%, 50%, 75%) for numerical columns in the DataFrame.\n",
        "\n",
        "**Data Exploration**: It's a quick way to get a high-level understanding of the distribution and characteristics of your data.\n",
        "\n",
        "**Data Quality Check**: It can help identify potential issues like outliers, missing values, or unexpected data ranges."
      ],
      "metadata": {
        "id": "B8ht8xCjvmLB"
      }
    },
    {
      "cell_type": "markdown",
      "source": [
        "# Que-13 Why is handling missing data important in Pandas?\n",
        "# **Ans-13**\n",
        "\n",
        "Missing data, often represented as NaN (Not a Number) values, can significantly impact the results of your data analysis and machine learning models. Here's a breakdown of the importance of handling missing data in Pandas:\n",
        "\n",
        "1. Data Integrity and Accuracy:\n",
        "\n",
        "* Skewed Statistics: Missing data can lead to inaccurate calculations of descriptive statistics like mean, median, and standard deviation. This can distort your understanding of the data's distribution and characteristics.\n",
        "* Biased Models: If missing data is not handled properly, it can introduce bias into your machine learning models, leading to incorrect predictions and unreliable insights.\n",
        "* Invalid Conclusions: Missing data can make it difficult to draw valid conclusions from your analysis, potentially leading to erroneous interpretations and decisions.\n",
        "2. Model Performance and Reliability:\n",
        "\n",
        "* Algorithm Compatibility: Many machine learning algorithms cannot handle missing data directly. They may throw errors or produce unpredictable results if NaN values are present.\n",
        "* Reduced Predictive Power: Missing data can reduce the predictive power of your models by limiting the information available for training and prediction.\n",
        "* Increased Uncertainty: Missing data can introduce uncertainty into your models, making it harder to assess their accuracy and reliability.\n",
        "3. Efficient Data Analysis:\n",
        "\n",
        "* Data Cleaning: Handling missing data is an essential part of data cleaning and preprocessing, ensuring that your data is ready for analysis and modeling.\n",
        "* Data Imputation: Techniques like imputation can help fill in missing values with reasonable estimates, improving data completeness and quality.\n",
        "* Data Transformation: Handling missing data may involve transforming your data to create new features or variables that capture the information contained in missingness patterns."
      ],
      "metadata": {
        "id": "EKCov7nHvmSy"
      }
    },
    {
      "cell_type": "markdown",
      "source": [
        "# Que-14 What are the benefits of using Plotly for data visualization?\n",
        "# **Ans-14**\n",
        "\n",
        "Here are the benefits of using Plotly for data visualization:\n",
        "\n",
        "**Interactive and Engaging Visualizations:**\n",
        "\n",
        "1. Interactivity: Plotly's charts are highly interactive, allowing users to zoom, pan, hover over data points, and explore data in detail. This interactivity makes it easier to understand complex datasets and uncover hidden insights.\n",
        "2. Enhanced User Engagement: The interactive nature of Plotly visualizations leads to increased user engagement, as viewers can actively explore and manipulate the data.\n",
        "**Web-Based and Collaborative:**\n",
        "\n",
        "3. Web Compatibility: Plotly charts are web-based and can be easily embedded in websites, dashboards, and presentations. This makes it convenient to share and distribute visualizations with a wider audience.\n",
        "4. Collaboration: Plotly supports collaborative features, enabling multiple users to work on and share visualizations, fostering teamwork and knowledge sharing.\n",
        "**Flexibility and Customization:**\n",
        "\n",
        "5. Diverse Chart Types: Plotly offers a wide range of chart types, including line charts, scatter plots, bar charts, heatmaps, 3D charts, and more, catering to various visualization needs.\n",
        "6. Customization Options: Plotly provides extensive customization options, allowing users to control the appearance and behavior of their charts. This flexibility enables users to create visually appealing and informative visualizations tailored to their specific requirements.\n",
        "**Modern and Appealing Aesthetics:**\n",
        "\n",
        "7. Modern Design: Plotly charts have a modern and visually appealing design, enhancing the overall presentation of data.\n",
        "8. Customization: Users can further customize the look and feel of their charts with themes, color palettes, and styling options to create impactful visualizations.\n",
        "**Ease of Use and Integration:**\n",
        "\n",
        "9. User-Friendly API: Plotly provides a user-friendly API that simplifies the process of creating and customizing charts, making it accessible to users with varying levels of coding experience.\n",
        "10. Integration with Data Science Tools: Plotly seamlessly integrates with popular data science tools and libraries like Python, R, and Pandas, streamlining the data visualization workflow."
      ],
      "metadata": {
        "id": "Noj_DxLivmaT"
      }
    },
    {
      "cell_type": "markdown",
      "source": [
        "# Que-15 How does NumPy handle multidimensional arrays?\n",
        "# **Ans-15**\n",
        "\n",
        "**NumPy and Multidimensional Arrays**\n",
        "\n",
        "NumPy uses its ndarray (n-dimensional array) object to represent multidimensional arrays. These arrays have some key properties:\n",
        "\n",
        "**Homogeneous:** All elements within the array must share the same data type, like integers or floats. This makes them memory-efficient.\n",
        "\n",
        "**Fixed-size:** The size of the array is determined when it's created and doesn't change dynamically. This is unlike Python lists, which can grow or shrink."
      ],
      "metadata": {
        "id": "G6jU0LfivmiM"
      }
    },
    {
      "cell_type": "markdown",
      "source": [
        "# Que-16 What is the role of Bokeh in data visualization?\n",
        "# **Ans-16**\n",
        "\n",
        "Bokeh is an interactive visualization library for modern web browsers. It provides tools to create interactive plots, dashboards, and data applications.\n",
        "\n",
        "Role of Bokeh in Data Visualization\n",
        "\n",
        "1. Interactive Visualizations: Bokeh's primary role is to create interactive visualizations that can be embedded in web pages. This interactivity allows users to explore data dynamically, zoom in on specific areas, and hover over data points to get more information.\n",
        "\n",
        "2. Web-Based Visualization: Bokeh is designed to create visualizations that are easily shareable and viewable in web browsers. This makes it ideal for creating dashboards and data applications that can be accessed from anywhere.\n",
        "\n",
        "3. Data Exploration and Storytelling: Bokeh enables users to explore data interactively and uncover insights that might not be apparent from static visualizations. This exploration helps in data storytelling and communication of findings effectively.\n",
        "\n",
        "4. Customization and Flexibility: Bokeh provides a wide range of customization options, allowing users to control the appearance and behavior of their visualizations. This flexibility enables creating visualizations that are tailored to specific needs.\n",
        "\n",
        "5. Large Datasets: Bokeh can handle large datasets efficiently, making it suitable for visualizing big data applications.\n",
        "\n",
        "6. Data Applications: Bokeh can be used to create interactive data applications, such as dashboards, data exploration tools, and simulations."
      ],
      "metadata": {
        "id": "SNkZzGlzvmqB"
      }
    },
    {
      "cell_type": "markdown",
      "source": [
        "# Que-17 Explain the difference between apply() and map() in Pandas.\n",
        "# **Ans-17**\n",
        "\n",
        "Both apply() and map() are used for applying functions to Pandas objects, but they differ in how they operate and what they are best suited for.\n",
        "\n",
        "**map()**\n",
        "\n",
        "* Element-wise Operation: map() is designed for element-wise operations on a Pandas Series. It takes a function or a dictionary and applies it to each element of the Series.\n",
        "\n",
        "* Suitable for Simple Transformations: map() is best for simple transformations where you want to apply a function to each individual value in a Series.\n",
        "\n",
        "* Limited Functionality: map() is limited to working with Series objects and doesn't support more complex operations that involve multiple columns or rows.\n",
        "\n",
        "**apply()**\n",
        "\n",
        "* Flexible Application: apply() is more versatile and can be used on both Series and DataFrame objects. It allows you to apply a function along either the rows (axis=0) or columns (axis=1) of a DataFrame.\n",
        "\n",
        "* Complex Operations: apply() is suitable for more complex operations where you need to access multiple columns or rows within the function. It can also be used with custom functions that perform more intricate calculations.\n",
        "\n",
        "* Performance Considerations: While apply() is more flexible, it can be slower than map() for simple element-wise operations because it iterates over the data in a less optimized way."
      ],
      "metadata": {
        "id": "ZuG9aChavmxH"
      }
    },
    {
      "cell_type": "markdown",
      "source": [
        "# Que-18 What are some advanced features of NumPy?\n",
        "# **Ans-18**\n",
        "\n",
        "1. Broadcasting: NumPy's broadcasting allows you to perform arithmetic operations on arrays of different shapes, as long as their dimensions are compatible. This avoids the need for explicit loops and can significantly speed up computations.\n",
        "\n",
        "2. Strides: Strides define how many bytes NumPy needs to jump in memory to get to the next element in each dimension of an array. Understanding strides can help you write more efficient code by avoiding unnecessary data copies.\n",
        "\n",
        "3. Memory Mapping: Memory mapping allows you to work with large datasets that don't fit entirely in RAM. It maps a file to memory, so you can access portions of the data as needed without loading the entire file.\n",
        "\n",
        "4. Advanced Indexing: NumPy provides advanced indexing techniques like boolean indexing, integer array indexing, and fancy indexing. These techniques enable you to select and manipulate elements of an array in a flexible and efficient way.\n",
        "\n",
        "5. Universal Functions (ufuncs): Ufuncs are functions that operate element-wise on arrays. NumPy provides a large collection of built-in ufuncs for mathematical operations, trigonometric functions, and more. You can also create your own custom ufuncs.\n",
        "\n",
        "6. Structured Arrays: Structured arrays allow you to store heterogeneous data within a single array. Each element of the array can have a different data type, making them suitable for representing complex data structures.\n",
        "\n",
        "7. Linear Algebra: NumPy provides a comprehensive set of linear algebra functions for performing operations like matrix multiplication, eigenvalue decomposition, and solving linear equations.\n",
        "\n",
        "8. Random Number Generation: NumPy's random module provides functions for generating random numbers from various distributions, which are essential for simulations and statistical analysis.\n",
        "\n",
        "9. Fourier Transforms: NumPy's fft module provides functions for performing fast Fourier transforms (FFTs), which are used in signal processing, image analysis, and other applications.\n",
        "\n",
        "10. Interoperability: NumPy arrays can be easily integrated with other Python libraries and tools, making it a cornerstone of the scientific Python ecosystem."
      ],
      "metadata": {
        "id": "S_DLRwTyvm5D"
      }
    },
    {
      "cell_type": "markdown",
      "source": [
        "# Que-19 How does Pandas simplify time series analysis?\n",
        "# **Ans-19**\n",
        "**Pandas and Time Series Analysis**\n",
        "\n",
        "Pandas provides specialized data structures and functions that make working with time series data easier and more efficient. Here's a breakdown:\n",
        "\n",
        "1. DateTimeIndex: Pandas introduces the DateTimeIndex, which is a specialized index for time series data. It allows you to store and access data using timestamps as the index, making it convenient to perform time-based operations.\n",
        "\n",
        "2. Resampling and Frequency Conversion: Pandas offers powerful functions for resampling time series data to different frequencies (e.g., daily, weekly, monthly). You can easily convert data from one frequency to another using functions like resample() and asfreq().\n",
        "\n",
        "3. Time-Based Slicing and Filtering: Pandas allows you to slice and filter time series data based on timestamps using intuitive syntax. You can select data for specific time ranges or periods, making it easy to focus on relevant portions of your data.\n",
        "\n",
        "4. Rolling and Shifting: Pandas provides functions for calculating rolling statistics (e.g., moving averages) and shifting data in time. This is useful for identifying trends, patterns, and seasonality in time series data.\n",
        "\n",
        "5. Time Series Plotting: Pandas integrates well with plotting libraries like Matplotlib, making it easy to visualize time series data. You can create line plots, scatter plots, and other visualizations to understand the temporal patterns in your data."
      ],
      "metadata": {
        "id": "oGtiNsaivnA7"
      }
    },
    {
      "cell_type": "markdown",
      "source": [
        "# Que-20 What is the role of a pivot table in Pandas?\n",
        "# **Ans-20**\n",
        "\n",
        "A pivot table in Pandas is a powerful tool for data analysis. It allows you to reshape and summarize data by aggregating it based on one or more columns. This reshaping can provide valuable insights and help you understand the relationships between different variables in your dataset. Here's a breakdown of its role:\n",
        "\n",
        "1. Data Reshaping and Summarization:\n",
        "\n",
        "* Reshaping: Pivot tables fundamentally change the structure of your data. They transform a long-format table into a more concise and aggregated format by pivoting selected columns into new columns or index levels.\n",
        "* Summarization: Pivot tables allow you to apply aggregation functions (like sum, mean, count, etc.) to the data within each group defined by the pivot columns. This provides a summarized view of the data, making it easier to identify patterns and trends.\n",
        "2. Data Exploration and Analysis:\n",
        "\n",
        "* Understanding Relationships: Pivot tables help you explore relationships between different variables by summarizing data across different categories. This can reveal insights about how variables interact and influence each other.\n",
        "* Identifying Trends: Pivot tables make it easier to identify trends and patterns in your data. By summarizing data across different groups, you can spot changes over time, variations across categories, or other patterns.\n",
        "* Hypothesis Testing: Pivot tables can be used to test hypotheses about your data. By summarizing data according to different criteria, you can compare groups and see if there are significant differences between them.\n",
        "3. Data Reporting and Presentation:\n",
        "\n",
        "* Creating Reports: Pivot tables are often used to create reports and summaries for data analysis. They provide a concise and organized way to present aggregated data, making it easier for stakeholders to understand the key findings.\n",
        "* Data Visualization: Pivot tables can be used as the basis for data visualizations. By reshaping and summarizing data, they make it easier to create charts and graphs that effectively communicate insights.\n",
        "4. Flexibility and Customization:\n",
        "\n",
        "* Multiple Aggregation Functions: Pivot tables allow you to apply multiple aggregation functions simultaneously, providing a comprehensive summary of your data.\n",
        "* Hierarchical Indexing: Pivot tables support hierarchical indexing, enabling you to create multi-level index structures to represent complex data relationships.\n",
        "* Filtering and Sorting: You can filter and sort data within a pivot table to focus on specific areas of interest and refine your analysis."
      ],
      "metadata": {
        "id": "GRNQ1vDEvnI6"
      }
    },
    {
      "cell_type": "markdown",
      "source": [
        "# Que-21 Why is NumPy’s array slicing faster than Python’s list slicing?\n",
        "# **Ans-21**\n",
        "\n",
        "**NumPy Array Slicing**\n",
        "\n",
        "1. Data Storage: NumPy arrays store data in contiguous memory blocks, meaning elements are stored right next to each other. This allows for efficient access to data during slicing because the memory location of any element can be calculated directly.\n",
        "\n",
        "2. Data Type: NumPy arrays are homogeneous, meaning they contain elements of the same data type. This simplifies data access and manipulation because the size of each element is known and consistent.\n",
        "\n",
        "3. Optimized Operations: NumPy slicing operations are implemented in optimized C code, which is generally faster than Python's interpreted code.\n",
        "\n",
        "**Python List Slicing**\n",
        "\n",
        "1. Data Storage: Python lists store data as pointers to objects, which can be scattered in memory. This means accessing elements during slicing requires following pointers, which can be less efficient.\n",
        "\n",
        "2. Data Type: Python lists can contain elements of different data types. This adds overhead during slicing because the interpreter needs to determine the type and size of each element before accessing it.\n",
        "\n",
        "3. Interpretation Overhead: Python list slicing involves interpretation overhead because it's executed by the Python interpreter, which is generally slower than compiled code."
      ],
      "metadata": {
        "id": "r_VK0ITrvnP4"
      }
    },
    {
      "cell_type": "markdown",
      "source": [
        "# Que-22 What are some common use cases for Seaborn?\n",
        "# **Ans-22**\n",
        "\n",
        "**Visualizing statistical relationships**\n",
        "\n",
        "* Scatter plots: Show the relationship between two numerical variables. Seaborn's scatterplot() and jointplot() functions can be used to create scatter plots with additional features like marginal distributions and regression lines.\n",
        "* Line plots: Show the trend of a variable over time or another continuous variable. Seaborn's lineplot() function can be used to create line plots with confidence intervals and other customizations.\n",
        "* Heatmaps: Show the correlation between multiple variables. Seaborn's heatmap() function can be used to create heatmaps with color gradients and annotations.\n",
        "\n",
        "**Visualizing distributions**\n",
        "\n",
        "* Histograms: Show the distribution of a single numerical variable. Seaborn's histplot() function can be used to create histograms with kernel density estimation and rug plots.\n",
        "* Box plots: Show the distribution of a numerical variable for different groups or categories. Seaborn's boxplot() function can be used to create box plots with notches and outliers.\n",
        "* Violin plots: Show the distribution of a numerical variable for different groups or categories, similar to box plots but with more detail. Seaborn's violinplot() function can be used to create violin plots with kernel density estimation.\n",
        "\n",
        "**Visualizing categorical data**\n",
        "\n",
        "* Bar plots: Show the frequency or proportion of different categories. Seaborn's barplot() function can be used to create bar plots with error bars and confidence intervals.\n",
        "* Count plots: Show the number of observations in each category. Seaborn's countplot() function can be used to create count plots with hue and order parameters.\n",
        "* Categorical scatter plots: Show the relationship between two categorical variables. Seaborn's swarmplot() and stripplot() functions can be used to create categorical scatter plots with jitter and dodging.\n",
        "\n",
        "**Creating multi-plot grids**\n",
        "\n",
        "* Pair plots: Create a grid of scatter plots for all pairs of numerical variables in a dataset. Seaborn's pairplot() function can be used to create pair plots with hue and diag_kind parameters.\n",
        "* Joint plots: Create a scatter plot with marginal distributions for two numerical variables. Seaborn's jointplot() function can be used to create joint plots with kind and color parameters.\n",
        "* Facet grids: Create a grid of plots for different subsets of data based on one or more categorical variables. Seaborn's FacetGrid class can be used to create facet grids with various plot types and customizations."
      ],
      "metadata": {
        "id": "_b37E-G6vnWW"
      }
    },
    {
      "cell_type": "markdown",
      "source": [
        "# **Practical Questions**"
      ],
      "metadata": {
        "id": "-F-SXUa4wuUH"
      }
    },
    {
      "cell_type": "markdown",
      "source": [
        " # Que-1 How do you create a 2D NumPy array and calculate the sum of each row?\n",
        " # **Ans-1**"
      ],
      "metadata": {
        "id": "ZxP321wk-77i"
      }
    },
    {
      "cell_type": "code",
      "source": [
        "import numpy as np"
      ],
      "metadata": {
        "id": "WnPq_6h8BWm9"
      },
      "execution_count": 1,
      "outputs": []
    },
    {
      "cell_type": "code",
      "source": [
        "array_2d = np.array([[1,2,3], [4,5,6], [6,7,8]])"
      ],
      "metadata": {
        "id": "IG_qCCboBjW6"
      },
      "execution_count": 2,
      "outputs": []
    },
    {
      "cell_type": "code",
      "source": [
        "row_sums = np.sum(array_2d, axis=1)\n",
        "row_sums"
      ],
      "metadata": {
        "colab": {
          "base_uri": "https://localhost:8080/"
        },
        "id": "f0p3NjaWB7jA",
        "outputId": "be3d4a4f-9d6c-406a-fbaa-cc733fe3a227"
      },
      "execution_count": 4,
      "outputs": [
        {
          "output_type": "execute_result",
          "data": {
            "text/plain": [
              "array([ 6, 15, 21])"
            ]
          },
          "metadata": {},
          "execution_count": 4
        }
      ]
    },
    {
      "cell_type": "code",
      "source": [
        "array_2d"
      ],
      "metadata": {
        "colab": {
          "base_uri": "https://localhost:8080/"
        },
        "id": "YjgKe0VWCRDY",
        "outputId": "9c4d8077-4317-4c79-d2f8-c7422bc656f1"
      },
      "execution_count": 5,
      "outputs": [
        {
          "output_type": "execute_result",
          "data": {
            "text/plain": [
              "array([[1, 2, 3],\n",
              "       [4, 5, 6],\n",
              "       [6, 7, 8]])"
            ]
          },
          "metadata": {},
          "execution_count": 5
        }
      ]
    },
    {
      "cell_type": "markdown",
      "source": [
        "# Que-2 Write a Pandas script to find the mean of a specific column in a DataFrame.\n",
        "# **Ans-2**"
      ],
      "metadata": {
        "id": "iUsTnsHZ_KLE"
      }
    },
    {
      "cell_type": "code",
      "source": [
        "import pandas as pd\n",
        "\n",
        "data = {'col1': [1,2,3,4,5],\n",
        "        'col2': [6,7,8,9,10]}\n",
        "df = pd.DataFrame(data)\n",
        "\n",
        "mean_col1 = df['col1'].mean()\n",
        "\n",
        "print(mean_col1)"
      ],
      "metadata": {
        "colab": {
          "base_uri": "https://localhost:8080/"
        },
        "id": "cJYcZREPChd2",
        "outputId": "f654e317-b631-40f2-8ca3-4261bd7b977e"
      },
      "execution_count": 7,
      "outputs": [
        {
          "output_type": "stream",
          "name": "stdout",
          "text": [
            "3.0\n"
          ]
        }
      ]
    },
    {
      "cell_type": "markdown",
      "source": [
        "# Que-3 Create a scatter plot using Matplotlib.\n",
        "# **Ans-3**"
      ],
      "metadata": {
        "id": "nvt1rRzj_LbT"
      }
    },
    {
      "cell_type": "code",
      "source": [
        "import matplotlib.pyplot as plt\n",
        "\n",
        "x = [1,2,3,4,5]\n",
        "y = [2,4,1,3,5]\n",
        "\n",
        "plt.scatter(x, y)\n",
        "\n",
        "plt.xlabel('X-axis')\n",
        "plt.ylabel('Y-axis')\n",
        "plt.title('Scatter Plot')\n",
        "\n",
        "plt.show()"
      ],
      "metadata": {
        "colab": {
          "base_uri": "https://localhost:8080/",
          "height": 472
        },
        "id": "NTkaKTvFDdj0",
        "outputId": "23abbd7b-eb12-431e-f056-1dcd949bf242"
      },
      "execution_count": 8,
      "outputs": [
        {
          "output_type": "display_data",
          "data": {
            "text/plain": [
              "<Figure size 640x480 with 1 Axes>"
            ],
            "image/png": "[encoded data removed]"
          },
          "metadata": {}
        }
      ]
    },
    {
      "cell_type": "markdown",
      "source": [
        "# Que-4 How do you calculate the correlation matrix using Seaborn and visualize it with a heatmap?\n",
        "# **Ans-4**"
      ],
      "metadata": {
        "id": "QrKjFgp2_LkS"
      }
    },
    {
      "cell_type": "code",
      "source": [
        "import seaborn as sns\n",
        "import matplotlib.pyplot as plt\n",
        "import pandas as pd\n",
        "\n",
        "data = {'A': [1,2,3,4,5],\n",
        "        'B': [2,4,1,3,5],\n",
        "        'c': [3,1,2,5,3]}\n",
        "\n",
        "df = pd.DataFrame(data)\n",
        "df"
      ],
      "metadata": {
        "colab": {
          "base_uri": "https://localhost:8080/",
          "height": 206
        },
        "id": "cN1vQyw7EWYh",
        "outputId": "e26338e5-ca0b-4264-cdb1-8080b9a44315"
      },
      "execution_count": 11,
      "outputs": [
        {
          "output_type": "execute_result",
          "data": {
            "text/plain": [
              "   A  B  c\n",
              "0  1  2  3\n",
              "1  2  4  1\n",
              "2  3  1  2\n",
              "3  4  3  5\n",
              "4  5  5  3"
            ],
            "text/html": [
              "\n",
              "  <div id=\"df-94e1f147-228a-47fa-93fe-3abe85337a37\" class=\"colab-df-container\">\n",
              "    <div>\n",
              "<style scoped>\n",
              "    .dataframe tbody tr th:only-of-type {\n",
              "        vertical-align: middle;\n",
              "    }\n",
              "\n",
              "    .dataframe tbody tr th {\n",
              "        vertical-align: top;\n",
              "    }\n",
              "\n",
              "    .dataframe thead th {\n",
              "        text-align: right;\n",
              "    }\n",
              "</style>\n",
              "<table border=\"1\" class=\"dataframe\">\n",
              "  <thead>\n",
              "    <tr style=\"text-align: right;\">\n",
              "      <th></th>\n",
              "      <th>A</th>\n",
              "      <th>B</th>\n",
              "      <th>c</th>\n",
              "    </tr>\n",
              "  </thead>\n",
              "  <tbody>\n",
              "    <tr>\n",
              "      <th>0</th>\n",
              "      <td>1</td>\n",
              "      <td>2</td>\n",
              "      <td>3</td>\n",
              "    </tr>\n",
              "    <tr>\n",
              "      <th>1</th>\n",
              "      <td>2</td>\n",
              "      <td>4</td>\n",
              "      <td>1</td>\n",
              "    </tr>\n",
              "    <tr>\n",
              "      <th>2</th>\n",
              "      <td>3</td>\n",
              "      <td>1</td>\n",
              "      <td>2</td>\n",
              "    </tr>\n",
              "    <tr>\n",
              "      <th>3</th>\n",
              "      <td>4</td>\n",
              "      <td>3</td>\n",
              "      <td>5</td>\n",
              "    </tr>\n",
              "    <tr>\n",
              "      <th>4</th>\n",
              "      <td>5</td>\n",
              "      <td>5</td>\n",
              "      <td>3</td>\n",
              "    </tr>\n",
              "  </tbody>\n",
              "</table>\n",
              "</div>\n",
              "    <div class=\"colab-df-buttons\">\n",
              "\n",
              "  <div class=\"colab-df-container\">\n",
              "    <button class=\"colab-df-convert\" onclick=\"convertToInteractive('df-94e1f147-228a-47fa-93fe-3abe85337a37')\"\n",
              "            title=\"Convert this dataframe to an interactive table.\"\n",
              "            style=\"display:none;\">\n",
              "\n",
              "  <svg xmlns=\"http://www.w3.org/2000/svg\" height=\"24px\" viewBox=\"0 -960 960 960\">\n",
              "    <path d=\"M120-120v-720h720v720H120Zm60-500h600v-160H180v160Zm220 220h160v-160H400v160Zm0 220h160v-160H400v160ZM180-400h160v-160H180v160Zm440 0h160v-160H620v160ZM180-180h160v-160H180v160Zm440 0h160v-160H620v160Z\"/>\n",
              "  </svg>\n",
              "    </button>\n",
              "\n",
              "  <style>\n",
              "    .colab-df-container {\n",
              "      display:flex;\n",
              "      gap: 12px;\n",
              "    }\n",
              "\n",
              "    .colab-df-convert {\n",
              "      background-color: #E8F0FE;\n",
              "      border: none;\n",
              "      border-radius: 50%;\n",
              "      cursor: pointer;\n",
              "      display: none;\n",
              "      fill: #1967D2;\n",
              "      height: 32px;\n",
              "      padding: 0 0 0 0;\n",
              "      width: 32px;\n",
              "    }\n",
              "\n",
              "    .colab-df-convert:hover {\n",
              "      background-color: #E2EBFA;\n",
              "      box-shadow: 0px 1px 2px rgba(60, 64, 67, 0.3), 0px 1px 3px 1px rgba(60, 64, 67, 0.15);\n",
              "      fill: #174EA6;\n",
              "    }\n",
              "\n",
              "    .colab-df-buttons div {\n",
              "      margin-bottom: 4px;\n",
              "    }\n",
              "\n",
              "    [theme=dark] .colab-df-convert {\n",
              "      background-color: #3B4455;\n",
              "      fill: #D2E3FC;\n",
              "    }\n",
              "\n",
              "    [theme=dark] .colab-df-convert:hover {\n",
              "      background-color: #434B5C;\n",
              "      box-shadow: 0px 1px 3px 1px rgba(0, 0, 0, 0.15);\n",
              "      filter: drop-shadow(0px 1px 2px rgba(0, 0, 0, 0.3));\n",
              "      fill: #FFFFFF;\n",
              "    }\n",
              "  </style>\n",
              "\n",
              "    <script>\n",
              "      const buttonEl =\n",
              "        document.querySelector('#df-94e1f147-228a-47fa-93fe-3abe85337a37 button.colab-df-convert');\n",
              "      buttonEl.style.display =\n",
              "        google.colab.kernel.accessAllowed ? 'block' : 'none';\n",
              "\n",
              "      async function convertToInteractive(key) {\n",
              "        const element = document.querySelector('#df-94e1f147-228a-47fa-93fe-3abe85337a37');\n",
              "        const dataTable =\n",
              "          await google.colab.kernel.invokeFunction('convertToInteractive',\n",
              "                                                    [key], {});\n",
              "        if (!dataTable) return;\n",
              "\n",
              "        const docLinkHtml = 'Like what you see? Visit the ' +\n",
              "          '<a target=\"_blank\" href=https://colab.research.google.com/notebooks/data_table.ipynb>data table notebook</a>'\n",
              "          + ' to learn more about interactive tables.';\n",
              "        element.innerHTML = '';\n",
              "        dataTable['output_type'] = 'display_data';\n",
              "        await google.colab.output.renderOutput(dataTable, element);\n",
              "        const docLink = document.createElement('div');\n",
              "        docLink.innerHTML = docLinkHtml;\n",
              "        element.appendChild(docLink);\n",
              "      }\n",
              "    </script>\n",
              "  </div>\n",
              "\n",
              "\n",
              "<div id=\"df-71cde134-940a-4041-b3f6-c67953e1cc0a\">\n",
              "  <button class=\"colab-df-quickchart\" onclick=\"quickchart('df-71cde134-940a-4041-b3f6-c67953e1cc0a')\"\n",
              "            title=\"Suggest charts\"\n",
              "            style=\"display:none;\">\n",
              "\n",
              "<svg xmlns=\"http://www.w3.org/2000/svg\" height=\"24px\"viewBox=\"0 0 24 24\"\n",
              "     width=\"24px\">\n",
              "    <g>\n",
              "        <path d=\"M19 3H5c-1.1 0-2 .9-2 2v14c0 1.1.9 2 2 2h14c1.1 0 2-.9 2-2V5c0-1.1-.9-2-2-2zM9 17H7v-7h2v7zm4 0h-2V7h2v10zm4 0h-2v-4h2v4z\"/>\n",
              "    </g>\n",
              "</svg>\n",
              "  </button>\n",
              "\n",
              "<style>\n",
              "  .colab-df-quickchart {\n",
              "      --bg-color: #E8F0FE;\n",
              "      --fill-color: #1967D2;\n",
              "      --hover-bg-color: #E2EBFA;\n",
              "      --hover-fill-color: #174EA6;\n",
              "      --disabled-fill-color: #AAA;\n",
              "      --disabled-bg-color: #DDD;\n",
              "  }\n",
              "\n",
              "  [theme=dark] .colab-df-quickchart {\n",
              "      --bg-color: #3B4455;\n",
              "      --fill-color: #D2E3FC;\n",
              "      --hover-bg-color: #434B5C;\n",
              "      --hover-fill-color: #FFFFFF;\n",
              "      --disabled-bg-color: #3B4455;\n",
              "      --disabled-fill-color: #666;\n",
              "  }\n",
              "\n",
              "  .colab-df-quickchart {\n",
              "    background-color: var(--bg-color);\n",
              "    border: none;\n",
              "    border-radius: 50%;\n",
              "    cursor: pointer;\n",
              "    display: none;\n",
              "    fill: var(--fill-color);\n",
              "    height: 32px;\n",
              "    padding: 0;\n",
              "    width: 32px;\n",
              "  }\n",
              "\n",
              "  .colab-df-quickchart:hover {\n",
              "    background-color: var(--hover-bg-color);\n",
              "    box-shadow: 0 1px 2px rgba(60, 64, 67, 0.3), 0 1px 3px 1px rgba(60, 64, 67, 0.15);\n",
              "    fill: var(--button-hover-fill-color);\n",
              "  }\n",
              "\n",
              "  .colab-df-quickchart-complete:disabled,\n",
              "  .colab-df-quickchart-complete:disabled:hover {\n",
              "    background-color: var(--disabled-bg-color);\n",
              "    fill: var(--disabled-fill-color);\n",
              "    box-shadow: none;\n",
              "  }\n",
              "\n",
              "  .colab-df-spinner {\n",
              "    border: 2px solid var(--fill-color);\n",
              "    border-color: transparent;\n",
              "    border-bottom-color: var(--fill-color);\n",
              "    animation:\n",
              "      spin 1s steps(1) infinite;\n",
              "  }\n",
              "\n",
              "  @keyframes spin {\n",
              "    0% {\n",
              "      border-color: transparent;\n",
              "      border-bottom-color: var(--fill-color);\n",
              "      border-left-color: var(--fill-color);\n",
              "    }\n",
              "    20% {\n",
              "      border-color: transparent;\n",
              "      border-left-color: var(--fill-color);\n",
              "      border-top-color: var(--fill-color);\n",
              "    }\n",
              "    30% {\n",
              "      border-color: transparent;\n",
              "      border-left-color: var(--fill-color);\n",
              "      border-top-color: var(--fill-color);\n",
              "      border-right-color: var(--fill-color);\n",
              "    }\n",
              "    40% {\n",
              "      border-color: transparent;\n",
              "      border-right-color: var(--fill-color);\n",
              "      border-top-color: var(--fill-color);\n",
              "    }\n",
              "    60% {\n",
              "      border-color: transparent;\n",
              "      border-right-color: var(--fill-color);\n",
              "    }\n",
              "    80% {\n",
              "      border-color: transparent;\n",
              "      border-right-color: var(--fill-color);\n",
              "      border-bottom-color: var(--fill-color);\n",
              "    }\n",
              "    90% {\n",
              "      border-color: transparent;\n",
              "      border-bottom-color: var(--fill-color);\n",
              "    }\n",
              "  }\n",
              "</style>\n",
              "\n",
              "  <script>\n",
              "    async function quickchart(key) {\n",
              "      const quickchartButtonEl =\n",
              "        document.querySelector('#' + key + ' button');\n",
              "      quickchartButtonEl.disabled = true;  // To prevent multiple clicks.\n",
              "      quickchartButtonEl.classList.add('colab-df-spinner');\n",
              "      try {\n",
              "        const charts = await google.colab.kernel.invokeFunction(\n",
              "            'suggestCharts', [key], {});\n",
              "      } catch (error) {\n",
              "        console.error('Error during call to suggestCharts:', error);\n",
              "      }\n",
              "      quickchartButtonEl.classList.remove('colab-df-spinner');\n",
              "      quickchartButtonEl.classList.add('colab-df-quickchart-complete');\n",
              "    }\n",
              "    (() => {\n",
              "      let quickchartButtonEl =\n",
              "        document.querySelector('#df-71cde134-940a-4041-b3f6-c67953e1cc0a button');\n",
              "      quickchartButtonEl.style.display =\n",
              "        google.colab.kernel.accessAllowed ? 'block' : 'none';\n",
              "    })();\n",
              "  </script>\n",
              "</div>\n",
              "\n",
              "  <div id=\"id_6ee32fbf-e2e4-4558-9dbc-23221a47f745\">\n",
              "    <style>\n",
              "      .colab-df-generate {\n",
              "        background-color: #E8F0FE;\n",
              "        border: none;\n",
              "        border-radius: 50%;\n",
              "        cursor: pointer;\n",
              "        display: none;\n",
              "        fill: #1967D2;\n",
              "        height: 32px;\n",
              "        padding: 0 0 0 0;\n",
              "        width: 32px;\n",
              "      }\n",
              "\n",
              "      .colab-df-generate:hover {\n",
              "        background-color: #E2EBFA;\n",
              "        box-shadow: 0px 1px 2px rgba(60, 64, 67, 0.3), 0px 1px 3px 1px rgba(60, 64, 67, 0.15);\n",
              "        fill: #174EA6;\n",
              "      }\n",
              "\n",
              "      [theme=dark] .colab-df-generate {\n",
              "        background-color: #3B4455;\n",
              "        fill: #D2E3FC;\n",
              "      }\n",
              "\n",
              "      [theme=dark] .colab-df-generate:hover {\n",
              "        background-color: #434B5C;\n",
              "        box-shadow: 0px 1px 3px 1px rgba(0, 0, 0, 0.15);\n",
              "        filter: drop-shadow(0px 1px 2px rgba(0, 0, 0, 0.3));\n",
              "        fill: #FFFFFF;\n",
              "      }\n",
              "    </style>\n",
              "    <button class=\"colab-df-generate\" onclick=\"generateWithVariable('df')\"\n",
              "            title=\"Generate code using this dataframe.\"\n",
              "            style=\"display:none;\">\n",
              "\n",
              "  <svg xmlns=\"http://www.w3.org/2000/svg\" height=\"24px\"viewBox=\"0 0 24 24\"\n",
              "       width=\"24px\">\n",
              "    <path d=\"M7,19H8.4L18.45,9,17,7.55,7,17.6ZM5,21V16.75L18.45,3.32a2,2,0,0,1,2.83,0l1.4,1.43a1.91,1.91,0,0,1,.58,1.4,1.91,1.91,0,0,1-.58,1.4L9.25,21ZM18.45,9,17,7.55Zm-12,3A5.31,5.31,0,0,0,4.9,8.1,5.31,5.31,0,0,0,1,6.5,5.31,5.31,0,0,0,4.9,4.9,5.31,5.31,0,0,0,6.5,1,5.31,5.31,0,0,0,8.1,4.9,5.31,5.31,0,0,0,12,6.5,5.46,5.46,0,0,0,6.5,12Z\"/>\n",
              "  </svg>\n",
              "    </button>\n",
              "    <script>\n",
              "      (() => {\n",
              "      const buttonEl =\n",
              "        document.querySelector('#id_6ee32fbf-e2e4-4558-9dbc-23221a47f745 button.colab-df-generate');\n",
              "      buttonEl.style.display =\n",
              "        google.colab.kernel.accessAllowed ? 'block' : 'none';\n",
              "\n",
              "      buttonEl.onclick = () => {\n",
              "        google.colab.notebook.generateWithVariable('df');\n",
              "      }\n",
              "      })();\n",
              "    </script>\n",
              "  </div>\n",
              "\n",
              "    </div>\n",
              "  </div>\n"
            ],
            "application/vnd.google.colaboratory.intrinsic+json": {
              "type": "dataframe",
              "variable_name": "df",
              "summary": "{\n  \"name\": \"df\",\n  \"rows\": 5,\n  \"fields\": [\n    {\n      \"column\": \"A\",\n      \"properties\": {\n        \"dtype\": \"number\",\n        \"std\": 1,\n        \"min\": 1,\n        \"max\": 5,\n        \"num_unique_values\": 5,\n        \"samples\": [\n          2,\n          5,\n          3\n        ],\n        \"semantic_type\": \"\",\n        \"description\": \"\"\n      }\n    },\n    {\n      \"column\": \"B\",\n      \"properties\": {\n        \"dtype\": \"number\",\n        \"std\": 1,\n        \"min\": 1,\n        \"max\": 5,\n        \"num_unique_values\": 5,\n        \"samples\": [\n          4,\n          5,\n          1\n        ],\n        \"semantic_type\": \"\",\n        \"description\": \"\"\n      }\n    },\n    {\n      \"column\": \"c\",\n      \"properties\": {\n        \"dtype\": \"number\",\n        \"std\": 1,\n        \"min\": 1,\n        \"max\": 5,\n        \"num_unique_values\": 4,\n        \"samples\": [\n          1,\n          5,\n          3\n        ],\n        \"semantic_type\": \"\",\n        \"description\": \"\"\n      }\n    }\n  ]\n}"
            }
          },
          "metadata": {},
          "execution_count": 11
        }
      ]
    },
    {
      "cell_type": "code",
      "source": [
        "correlation_matrix = df.corr()"
      ],
      "metadata": {
        "id": "TOe11HAXFInA"
      },
      "execution_count": 12,
      "outputs": []
    },
    {
      "cell_type": "code",
      "source": [
        "sns.heatmap(correlation_matrix, annot=True , cmap= 'coolwarm')\n",
        "plt.title('Correlation Matrix Heatmap')\n",
        "plt.show()"
      ],
      "metadata": {
        "colab": {
          "base_uri": "https://localhost:8080/",
          "height": 452
        },
        "id": "6nE5NMfXFTeg",
        "outputId": "3d05302b-1199-46ba-d030-bcb69742d5db"
      },
      "execution_count": 13,
      "outputs": [
        {
          "output_type": "display_data",
          "data": {
            "text/plain": [
              "<Figure size 640x480 with 2 Axes>"
            ],
            "image/png": "[encoded data removed]"
          },
          "metadata": {}
        }
      ]
    },
    {
      "cell_type": "markdown",
      "source": [
        "# Que-5 Generate a bar plot using Plotly.\n",
        "# **Ans-5**"
      ],
      "metadata": {
        "id": "EpYscpsc_LsZ"
      }
    },
    {
      "cell_type": "code",
      "source": [
        "import plotly.express as px\n",
        "\n",
        "data = {'category': ['A', 'B', 'C', 'D'],\n",
        "        'value': [10, 15, 7, 12]}\n",
        "\n",
        "fig = px.bar(data, x = 'category', y = 'value',\n",
        "             title = 'Bar plot with plotly')\n",
        "\n",
        "fig.show()"
      ],
      "metadata": {
        "colab": {
          "base_uri": "https://localhost:8080/",
          "height": 542
        },
        "id": "kY5cbLHmGIRU",
        "outputId": "11d1c23a-2546-4266-8a82-5fcc3798b8de"
      },
      "execution_count": 14,
      "outputs": [
        {
          "output_type": "display_data",
          "data": {
            "text/html": [
              "<html>\n",
              "<head><meta charset=\"utf-8\" /></head>\n",
              "<body>\n",
              "    <div>            <script src=\"https://cdnjs.cloudflare.com/ajax/libs/mathjax/2.7.5/MathJax.js?config=TeX-AMS-MML_SVG\"></script><script type=\"text/javascript\">if (window.MathJax && window.MathJax.Hub && window.MathJax.Hub.Config) {window.MathJax.Hub.Config({SVG: {font: \"STIX-Web\"}});}</script>                <script type=\"text/javascript\">window.PlotlyConfig = {MathJaxConfig: 'local'};</script>\n",
              "        <script charset=\"utf-8\" src=\"https://cdn.plot.ly/plotly-2.35.2.min.js\"></script>                <div id=\"36624e28-8ad9-48d0-977f-8be32edb5f37\" class=\"plotly-graph-div\" style=\"height:525px; width:100%;\"></div>            <script type=\"text/javascript\">                                    window.PLOTLYENV=window.PLOTLYENV || {};                                    if (document.getElementById(\"36624e28-8ad9-48d0-977f-8be32edb5f37\")) {                    Plotly.newPlot(                        \"36624e28-8ad9-48d0-977f-8be32edb5f37\",                        [{\"alignmentgroup\":\"True\",\"hovertemplate\":\"category=%{x}\\u003cbr\\u003evalue=%{y}\\u003cextra\\u003e\\u003c\\u002fextra\\u003e\",\"legendgroup\":\"\",\"marker\":{\"color\":\"#636efa\",\"pattern\":{\"shape\":\"\"}},\"name\":\"\",\"offsetgroup\":\"\",\"orientation\":\"v\",\"showlegend\":false,\"textposition\":\"auto\",\"x\":[\"A\",\"B\",\"C\",\"D\"],\"xaxis\":\"x\",\"y\":[10,15,7,12],\"yaxis\":\"y\",\"type\":\"bar\"}],                        {\"template\":{\"data\":{\"histogram2dcontour\":[{\"type\":\"histogram2dcontour\",\"colorbar\":{\"outlinewidth\":0,\"ticks\":\"\"},\"colorscale\":[[0.0,\"#0d0887\"],[0.1111111111111111,\"#46039f\"],[0.2222222222222222,\"#7201a8\"],[0.3333333333333333,\"#9c179e\"],[0.4444444444444444,\"#bd3786\"],[0.5555555555555556,\"#d8576b\"],[0.6666666666666666,\"#ed7953\"],[0.7777777777777778,\"#fb9f3a\"],[0.8888888888888888,\"#fdca26\"],[1.0,\"#f0f921\"]]}],\"choropleth\":[{\"type\":\"choropleth\",\"colorbar\":{\"outlinewidth\":0,\"ticks\":\"\"}}],\"histogram2d\":[{\"type\":\"histogram2d\",\"colorbar\":{\"outlinewidth\":0,\"ticks\":\"\"},\"colorscale\":[[0.0,\"#0d0887\"],[0.1111111111111111,\"#46039f\"],[0.2222222222222222,\"#7201a8\"],[0.3333333333333333,\"#9c179e\"],[0.4444444444444444,\"#bd3786\"],[0.5555555555555556,\"#d8576b\"],[0.6666666666666666,\"#ed7953\"],[0.7777777777777778,\"#fb9f3a\"],[0.8888888888888888,\"#fdca26\"],[1.0,\"#f0f921\"]]}],\"heatmap\":[{\"type\":\"heatmap\",\"colorbar\":{\"outlinewidth\":0,\"ticks\":\"\"},\"colorscale\":[[0.0,\"#0d0887\"],[0.1111111111111111,\"#46039f\"],[0.2222222222222222,\"#7201a8\"],[0.3333333333333333,\"#9c179e\"],[0.4444444444444444,\"#bd3786\"],[0.5555555555555556,\"#d8576b\"],[0.6666666666666666,\"#ed7953\"],[0.7777777777777778,\"#fb9f3a\"],[0.8888888888888888,\"#fdca26\"],[1.0,\"#f0f921\"]]}],\"heatmapgl\":[{\"type\":\"heatmapgl\",\"colorbar\":{\"outlinewidth\":0,\"ticks\":\"\"},\"colorscale\":[[0.0,\"#0d0887\"],[0.1111111111111111,\"#46039f\"],[0.2222222222222222,\"#7201a8\"],[0.3333333333333333,\"#9c179e\"],[0.4444444444444444,\"#bd3786\"],[0.5555555555555556,\"#d8576b\"],[0.6666666666666666,\"#ed7953\"],[0.7777777777777778,\"#fb9f3a\"],[0.8888888888888888,\"#fdca26\"],[1.0,\"#f0f921\"]]}],\"contourcarpet\":[{\"type\":\"contourcarpet\",\"colorbar\":{\"outlinewidth\":0,\"ticks\":\"\"}}],\"contour\":[{\"type\":\"contour\",\"colorbar\":{\"outlinewidth\":0,\"ticks\":\"\"},\"colorscale\":[[0.0,\"#0d0887\"],[0.1111111111111111,\"#46039f\"],[0.2222222222222222,\"#7201a8\"],[0.3333333333333333,\"#9c179e\"],[0.4444444444444444,\"#bd3786\"],[0.5555555555555556,\"#d8576b\"],[0.6666666666666666,\"#ed7953\"],[0.7777777777777778,\"#fb9f3a\"],[0.8888888888888888,\"#fdca26\"],[1.0,\"#f0f921\"]]}],\"surface\":[{\"type\":\"surface\",\"colorbar\":{\"outlinewidth\":0,\"ticks\":\"\"},\"colorscale\":[[0.0,\"#0d0887\"],[0.1111111111111111,\"#46039f\"],[0.2222222222222222,\"#7201a8\"],[0.3333333333333333,\"#9c179e\"],[0.4444444444444444,\"#bd3786\"],[0.5555555555555556,\"#d8576b\"],[0.6666666666666666,\"#ed7953\"],[0.7777777777777778,\"#fb9f3a\"],[0.8888888888888888,\"#fdca26\"],[1.0,\"#f0f921\"]]}],\"mesh3d\":[{\"type\":\"mesh3d\",\"colorbar\":{\"outlinewidth\":0,\"ticks\":\"\"}}],\"scatter\":[{\"fillpattern\":{\"fillmode\":\"overlay\",\"size\":10,\"solidity\":0.2},\"type\":\"scatter\"}],\"parcoords\":[{\"type\":\"parcoords\",\"line\":{\"colorbar\":{\"outlinewidth\":0,\"ticks\":\"\"}}}],\"scatterpolargl\":[{\"type\":\"scatterpolargl\",\"marker\":{\"colorbar\":{\"outlinewidth\":0,\"ticks\":\"\"}}}],\"bar\":[{\"error_x\":{\"color\":\"#2a3f5f\"},\"error_y\":{\"color\":\"#2a3f5f\"},\"marker\":{\"line\":{\"color\":\"#E5ECF6\",\"width\":0.5},\"pattern\":{\"fillmode\":\"overlay\",\"size\":10,\"solidity\":0.2}},\"type\":\"bar\"}],\"scattergeo\":[{\"type\":\"scattergeo\",\"marker\":{\"colorbar\":{\"outlinewidth\":0,\"ticks\":\"\"}}}],\"scatterpolar\":[{\"type\":\"scatterpolar\",\"marker\":{\"colorbar\":{\"outlinewidth\":0,\"ticks\":\"\"}}}],\"histogram\":[{\"marker\":{\"pattern\":{\"fillmode\":\"overlay\",\"size\":10,\"solidity\":0.2}},\"type\":\"histogram\"}],\"scattergl\":[{\"type\":\"scattergl\",\"marker\":{\"colorbar\":{\"outlinewidth\":0,\"ticks\":\"\"}}}],\"scatter3d\":[{\"type\":\"scatter3d\",\"line\":{\"colorbar\":{\"outlinewidth\":0,\"ticks\":\"\"}},\"marker\":{\"colorbar\":{\"outlinewidth\":0,\"ticks\":\"\"}}}],\"scattermapbox\":[{\"type\":\"scattermapbox\",\"marker\":{\"colorbar\":{\"outlinewidth\":0,\"ticks\":\"\"}}}],\"scatterternary\":[{\"type\":\"scatterternary\",\"marker\":{\"colorbar\":{\"outlinewidth\":0,\"ticks\":\"\"}}}],\"scattercarpet\":[{\"type\":\"scattercarpet\",\"marker\":{\"colorbar\":{\"outlinewidth\":0,\"ticks\":\"\"}}}],\"carpet\":[{\"aaxis\":{\"endlinecolor\":\"#2a3f5f\",\"gridcolor\":\"white\",\"linecolor\":\"white\",\"minorgridcolor\":\"white\",\"startlinecolor\":\"#2a3f5f\"},\"baxis\":{\"endlinecolor\":\"#2a3f5f\",\"gridcolor\":\"white\",\"linecolor\":\"white\",\"minorgridcolor\":\"white\",\"startlinecolor\":\"#2a3f5f\"},\"type\":\"carpet\"}],\"table\":[{\"cells\":{\"fill\":{\"color\":\"#EBF0F8\"},\"line\":{\"color\":\"white\"}},\"header\":{\"fill\":{\"color\":\"#C8D4E3\"},\"line\":{\"color\":\"white\"}},\"type\":\"table\"}],\"barpolar\":[{\"marker\":{\"line\":{\"color\":\"#E5ECF6\",\"width\":0.5},\"pattern\":{\"fillmode\":\"overlay\",\"size\":10,\"solidity\":0.2}},\"type\":\"barpolar\"}],\"pie\":[{\"automargin\":true,\"type\":\"pie\"}]},\"layout\":{\"autotypenumbers\":\"strict\",\"colorway\":[\"#636efa\",\"#EF553B\",\"#00cc96\",\"#ab63fa\",\"#FFA15A\",\"#19d3f3\",\"#FF6692\",\"#B6E880\",\"#FF97FF\",\"#FECB52\"],\"font\":{\"color\":\"#2a3f5f\"},\"hovermode\":\"closest\",\"hoverlabel\":{\"align\":\"left\"},\"paper_bgcolor\":\"white\",\"plot_bgcolor\":\"#E5ECF6\",\"polar\":{\"bgcolor\":\"#E5ECF6\",\"angularaxis\":{\"gridcolor\":\"white\",\"linecolor\":\"white\",\"ticks\":\"\"},\"radialaxis\":{\"gridcolor\":\"white\",\"linecolor\":\"white\",\"ticks\":\"\"}},\"ternary\":{\"bgcolor\":\"#E5ECF6\",\"aaxis\":{\"gridcolor\":\"white\",\"linecolor\":\"white\",\"ticks\":\"\"},\"baxis\":{\"gridcolor\":\"white\",\"linecolor\":\"white\",\"ticks\":\"\"},\"caxis\":{\"gridcolor\":\"white\",\"linecolor\":\"white\",\"ticks\":\"\"}},\"coloraxis\":{\"colorbar\":{\"outlinewidth\":0,\"ticks\":\"\"}},\"colorscale\":{\"sequential\":[[0.0,\"#0d0887\"],[0.1111111111111111,\"#46039f\"],[0.2222222222222222,\"#7201a8\"],[0.3333333333333333,\"#9c179e\"],[0.4444444444444444,\"#bd3786\"],[0.5555555555555556,\"#d8576b\"],[0.6666666666666666,\"#ed7953\"],[0.7777777777777778,\"#fb9f3a\"],[0.8888888888888888,\"#fdca26\"],[1.0,\"#f0f921\"]],\"sequentialminus\":[[0.0,\"#0d0887\"],[0.1111111111111111,\"#46039f\"],[0.2222222222222222,\"#7201a8\"],[0.3333333333333333,\"#9c179e\"],[0.4444444444444444,\"#bd3786\"],[0.5555555555555556,\"#d8576b\"],[0.6666666666666666,\"#ed7953\"],[0.7777777777777778,\"#fb9f3a\"],[0.8888888888888888,\"#fdca26\"],[1.0,\"#f0f921\"]],\"diverging\":[[0,\"#8e0152\"],[0.1,\"#c51b7d\"],[0.2,\"#de77ae\"],[0.3,\"#f1b6da\"],[0.4,\"#fde0ef\"],[0.5,\"#f7f7f7\"],[0.6,\"#e6f5d0\"],[0.7,\"#b8e186\"],[0.8,\"#7fbc41\"],[0.9,\"#4d9221\"],[1,\"#276419\"]]},\"xaxis\":{\"gridcolor\":\"white\",\"linecolor\":\"white\",\"ticks\":\"\",\"title\":{\"standoff\":15},\"zerolinecolor\":\"white\",\"automargin\":true,\"zerolinewidth\":2},\"yaxis\":{\"gridcolor\":\"white\",\"linecolor\":\"white\",\"ticks\":\"\",\"title\":{\"standoff\":15},\"zerolinecolor\":\"white\",\"automargin\":true,\"zerolinewidth\":2},\"scene\":{\"xaxis\":{\"backgroundcolor\":\"#E5ECF6\",\"gridcolor\":\"white\",\"linecolor\":\"white\",\"showbackground\":true,\"ticks\":\"\",\"zerolinecolor\":\"white\",\"gridwidth\":2},\"yaxis\":{\"backgroundcolor\":\"#E5ECF6\",\"gridcolor\":\"white\",\"linecolor\":\"white\",\"showbackground\":true,\"ticks\":\"\",\"zerolinecolor\":\"white\",\"gridwidth\":2},\"zaxis\":{\"backgroundcolor\":\"#E5ECF6\",\"gridcolor\":\"white\",\"linecolor\":\"white\",\"showbackground\":true,\"ticks\":\"\",\"zerolinecolor\":\"white\",\"gridwidth\":2}},\"shapedefaults\":{\"line\":{\"color\":\"#2a3f5f\"}},\"annotationdefaults\":{\"arrowcolor\":\"#2a3f5f\",\"arrowhead\":0,\"arrowwidth\":1},\"geo\":{\"bgcolor\":\"white\",\"landcolor\":\"#E5ECF6\",\"subunitcolor\":\"white\",\"showland\":true,\"showlakes\":true,\"lakecolor\":\"white\"},\"title\":{\"x\":0.05},\"mapbox\":{\"style\":\"light\"}}},\"xaxis\":{\"anchor\":\"y\",\"domain\":[0.0,1.0],\"title\":{\"text\":\"category\"}},\"yaxis\":{\"anchor\":\"x\",\"domain\":[0.0,1.0],\"title\":{\"text\":\"value\"}},\"legend\":{\"tracegroupgap\":0},\"title\":{\"text\":\"Bar plot with plotly\"},\"barmode\":\"relative\"},                        {\"responsive\": true}                    ).then(function(){\n",
              "                            \n",
              "var gd = document.getElementById('36624e28-8ad9-48d0-977f-8be32edb5f37');\n",
              "var x = new MutationObserver(function (mutations, observer) {{\n",
              "        var display = window.getComputedStyle(gd).display;\n",
              "        if (!display || display === 'none') {{\n",
              "            console.log([gd, 'removed!']);\n",
              "            Plotly.purge(gd);\n",
              "            observer.disconnect();\n",
              "        }}\n",
              "}});\n",
              "\n",
              "// Listen for the removal of the full notebook cells\n",
              "var notebookContainer = gd.closest('#notebook-container');\n",
              "if (notebookContainer) {{\n",
              "    x.observe(notebookContainer, {childList: true});\n",
              "}}\n",
              "\n",
              "// Listen for the clearing of the current output cell\n",
              "var outputEl = gd.closest('.output');\n",
              "if (outputEl) {{\n",
              "    x.observe(outputEl, {childList: true});\n",
              "}}\n",
              "\n",
              "                        })                };                            </script>        </div>\n",
              "</body>\n",
              "</html>"
            ]
          },
          "metadata": {}
        }
      ]
    },
    {
      "cell_type": "markdown",
      "source": [
        "# Que-6 Create a DataFrame and add a new column based on an existing column.\n",
        "# **Ans-6**"
      ],
      "metadata": {
        "id": "DidMhQAK_L0J"
      }
    },
    {
      "cell_type": "code",
      "source": [
        "import pandas as pd\n",
        "\n",
        "data = {'Name': ['Sangam', 'Arjun', 'Ravikant', 'Shubham'],\n",
        "        'Age': [25, 30, 28, 35]}\n",
        "\n",
        "df = pd.DataFrame(data)\n",
        "\n",
        "df['AgeGroup'] = pd.cut(df['Age'], bins = [0, 25, 35, 100],\n",
        "                        labels = ['Young', 'Adult', 'Senior'])\n",
        "\n",
        "print(df)\n",
        "\n",
        ""
      ],
      "metadata": {
        "colab": {
          "base_uri": "https://localhost:8080/"
        },
        "id": "VXN_E6MKHTYp",
        "outputId": "82523665-e789-47c9-e4f1-ffed084609dc"
      },
      "execution_count": 16,
      "outputs": [
        {
          "output_type": "stream",
          "name": "stdout",
          "text": [
            "       Name  Age AgeGroup\n",
            "0    Sangam   25    Young\n",
            "1     Arjun   30    Adult\n",
            "2  Ravikant   28    Adult\n",
            "3   Shubham   35    Adult\n"
          ]
        }
      ]
    },
    {
      "cell_type": "markdown",
      "source": [
        "# Que-7 Write a program to perform element-wise multiplication of two NumPy arrays.\n",
        "# **Ans-7**"
      ],
      "metadata": {
        "id": "1sPL8G6C_L77"
      }
    },
    {
      "cell_type": "code",
      "source": [
        "import numpy as np\n",
        "\n",
        "array1 = np.array([1,2,3,4,5])\n",
        "array2 = np.array([62,3,4,5,6])\n",
        "\n",
        "result = array1 * array2\n",
        "print(result)"
      ],
      "metadata": {
        "colab": {
          "base_uri": "https://localhost:8080/"
        },
        "id": "wYZG4ENII6Ii",
        "outputId": "da361d52-69da-46a5-b051-7b359d7992ae"
      },
      "execution_count": 17,
      "outputs": [
        {
          "output_type": "stream",
          "name": "stdout",
          "text": [
            "[62  6 12 20 30]\n"
          ]
        }
      ]
    },
    {
      "cell_type": "markdown",
      "source": [
        "# Que-8 Create a line plot with multiple lines using Matplotlib.\n",
        "# **Ans-8**"
      ],
      "metadata": {
        "id": "7ToRqd42_MDS"
      }
    },
    {
      "cell_type": "code",
      "source": [
        "import matplotlib.pyplot as plt\n",
        "import numpy as np\n",
        "\n",
        "x= np.arange(0,10,0.1)\n",
        "y1 = np.sin(x)\n",
        "y2 = np.cos(x)\n",
        "\n",
        "plt.plot(x, y1, label = 'sin(x)')\n",
        "plt.plot(x, y2, label = 'cos(x)')\n",
        "\n",
        "plt.xlabel('X-axis')\n",
        "plt.ylabel('Y-axis')\n",
        "plt.title('Line Plot with Multiple Lines')\n",
        "\n",
        "plt.legend()\n",
        "plt.show()"
      ],
      "metadata": {
        "colab": {
          "base_uri": "https://localhost:8080/",
          "height": 472
        },
        "id": "rI2GqGBaJm1S",
        "outputId": "19ca8e9f-908e-41b7-bb29-0c4ee9fcb082"
      },
      "execution_count": 19,
      "outputs": [
        {
          "output_type": "display_data",
          "data": {
            "text/plain": [
              "<Figure size 640x480 with 1 Axes>"
            ],
            "image/png": "[encoded data removed]"
          },
          "metadata": {}
        }
      ]
    },
    {
      "cell_type": "markdown",
      "source": [
        "# Que-9 Generate a Pandas DataFrame and filter rows where a column value is greater than a threshold.\n",
        "# **Ans-9**"
      ],
      "metadata": {
        "id": "wBhld6QX_MLk"
      }
    },
    {
      "cell_type": "code",
      "source": [
        "import pandas as pd\n",
        "\n",
        "data = {'col1': [1,2,3,4,5],\n",
        "        'col2': [6,7,8,9,10]}\n",
        "\n",
        "df = pd.DataFrame(data)\n",
        "\n",
        "threshold = 3\n",
        "filtered_df = df[df['col1'] > threshold]\n",
        "print(filtered_df)"
      ],
      "metadata": {
        "colab": {
          "base_uri": "https://localhost:8080/"
        },
        "id": "vAULtkyQKxoP",
        "outputId": "54b1c529-e313-4b7d-edea-238058113f42"
      },
      "execution_count": 20,
      "outputs": [
        {
          "output_type": "stream",
          "name": "stdout",
          "text": [
            "   col1  col2\n",
            "3     4     9\n",
            "4     5    10\n"
          ]
        }
      ]
    },
    {
      "cell_type": "markdown",
      "source": [
        "# Que-10 Create a histogram using Seaborn to visualize a distribution.\n",
        "# **Ans-10**"
      ],
      "metadata": {
        "id": "gATmKItQ_MSl"
      }
    },
    {
      "cell_type": "code",
      "source": [
        "import seaborn as sns\n",
        "import matplotlib.pyplot as plt\n",
        "\n",
        "data = [1,2,2,3,3,3,4,4,5]\n",
        "\n",
        "sns.histplot(data, kde = True)\n",
        "\n",
        "plt.xlabel('Value')\n",
        "plt.ylabel('Frequency')\n",
        "plt.title('Distribution of Data')\n",
        "\n",
        "plt.show()"
      ],
      "metadata": {
        "colab": {
          "base_uri": "https://localhost:8080/",
          "height": 472
        },
        "id": "q5HhqOXVLdJl",
        "outputId": "973e54d0-fd44-4077-f319-9da149d7e690"
      },
      "execution_count": 21,
      "outputs": [
        {
          "output_type": "display_data",
          "data": {
            "text/plain": [
              "<Figure size 640x480 with 1 Axes>"
            ],
            "image/png": "[encoded data removed]"
          },
          "metadata": {}
        }
      ]
    },
    {
      "cell_type": "markdown",
      "source": [
        "# Que-11 Perform matrix multiplication using NumPy.\n",
        "# **Ans-11**"
      ],
      "metadata": {
        "id": "LkDLD8DF_MaF"
      }
    },
    {
      "cell_type": "code",
      "source": [
        "import numpy as np\n",
        "\n",
        "matrix1 = np.array([[1,2], [3,4]])\n",
        "matrix2 = np.array([[5,6], [7,8]])\n",
        "\n",
        "result = np.matmul(matrix1, matrix2)\n",
        "print(result)"
      ],
      "metadata": {
        "colab": {
          "base_uri": "https://localhost:8080/"
        },
        "id": "20w0NCJcMVei",
        "outputId": "255eaebb-f274-4031-8cab-1a18e239e04a"
      },
      "execution_count": 22,
      "outputs": [
        {
          "output_type": "stream",
          "name": "stdout",
          "text": [
            "[[19 22]\n",
            " [43 50]]\n"
          ]
        }
      ]
    },
    {
      "cell_type": "markdown",
      "source": [
        " # Que-12 Use Pandas to load a CSV file and display its first 5 rows.\n",
        " # **Ans-12**"
      ],
      "metadata": {
        "id": "M7IQZJwS_Mgf"
      }
    },
    {
      "cell_type": "code",
      "source": [
        "import pandas as pd\n",
        "\n",
        "df = pd.read_csv('/content/sample_data/california_housing_test.csv')\n",
        "print(df.head())"
      ],
      "metadata": {
        "colab": {
          "base_uri": "https://localhost:8080/"
        },
        "id": "_a-KINAvOXkF",
        "outputId": "e1cbf01b-b4ce-478a-9b00-a7b5f54454a0"
      },
      "execution_count": 28,
      "outputs": [
        {
          "output_type": "stream",
          "name": "stdout",
          "text": [
            "   longitude  latitude  housing_median_age  total_rooms  total_bedrooms  \\\n",
            "0    -122.05     37.37                27.0       3885.0           661.0   \n",
            "1    -118.30     34.26                43.0       1510.0           310.0   \n",
            "2    -117.81     33.78                27.0       3589.0           507.0   \n",
            "3    -118.36     33.82                28.0         67.0            15.0   \n",
            "4    -119.67     36.33                19.0       1241.0           244.0   \n",
            "\n",
            "   population  households  median_income  median_house_value  \n",
            "0      1537.0       606.0         6.6085            344700.0  \n",
            "1       809.0       277.0         3.5990            176500.0  \n",
            "2      1484.0       495.0         5.7934            270500.0  \n",
            "3        49.0        11.0         6.1359            330000.0  \n",
            "4       850.0       237.0         2.9375             81700.0  \n"
          ]
        }
      ]
    },
    {
      "cell_type": "markdown",
      "source": [
        "# Que-13 Create a 3D scatter plot using Plotly.\n",
        "# **Ans-13**"
      ],
      "metadata": {
        "id": "Mur582pB_4FY"
      }
    },
    {
      "cell_type": "code",
      "source": [
        "import plotly.express as px\n",
        "\n",
        "# Sample data\n",
        "df = px.data.iris()  # Built-in iris dataset\n",
        "\n",
        "# Create the 3D scatter plot\n",
        "fig = px.scatter_3d(df, x='sepal_length', y='sepal_width', z='petal_width',\n",
        "                    color='species')\n",
        "\n",
        "# Display the plot\n",
        "fig.show()"
      ],
      "metadata": {
        "colab": {
          "base_uri": "https://localhost:8080/",
          "height": 542
        },
        "id": "9GIb1nDoNBXo",
        "outputId": "c4672c28-cbca-4e43-8826-1207c046c1e5"
      },
      "execution_count": 27,
      "outputs": [
        {
          "output_type": "display_data",
          "data": {
            "text/html": [
              "<html>\n",
              "<head><meta charset=\"utf-8\" /></head>\n",
              "<body>\n",
              "    <div>            <script src=\"https://cdnjs.cloudflare.com/ajax/libs/mathjax/2.7.5/MathJax.js?config=TeX-AMS-MML_SVG\"></script><script type=\"text/javascript\">if (window.MathJax && window.MathJax.Hub && window.MathJax.Hub.Config) {window.MathJax.Hub.Config({SVG: {font: \"STIX-Web\"}});}</script>                <script type=\"text/javascript\">window.PlotlyConfig = {MathJaxConfig: 'local'};</script>\n",
              "        <script charset=\"utf-8\" src=\"https://cdn.plot.ly/plotly-2.35.2.min.js\"></script>                <div id=\"c722d7ef-e4f8-4672-a9ee-ec120fe55059\" class=\"plotly-graph-div\" style=\"height:525px; width:100%;\"></div>            <script type=\"text/javascript\">                                    window.PLOTLYENV=window.PLOTLYENV || {};                                    if (document.getElementById(\"c722d7ef-e4f8-4672-a9ee-ec120fe55059\")) {                    Plotly.newPlot(                        \"c722d7ef-e4f8-4672-a9ee-ec120fe55059\",                        [{\"hovertemplate\":\"species=setosa\\u003cbr\\u003esepal_length=%{x}\\u003cbr\\u003esepal_width=%{y}\\u003cbr\\u003epetal_width=%{z}\\u003cextra\\u003e\\u003c\\u002fextra\\u003e\",\"legendgroup\":\"setosa\",\"marker\":{\"color\":\"#636efa\",\"symbol\":\"circle\"},\"mode\":\"markers\",\"name\":\"setosa\",\"scene\":\"scene\",\"showlegend\":true,\"x\":[5.1,4.9,4.7,4.6,5.0,5.4,4.6,5.0,4.4,4.9,5.4,4.8,4.8,4.3,5.8,5.7,5.4,5.1,5.7,5.1,5.4,5.1,4.6,5.1,4.8,5.0,5.0,5.2,5.2,4.7,4.8,5.4,5.2,5.5,4.9,5.0,5.5,4.9,4.4,5.1,5.0,4.5,4.4,5.0,5.1,4.8,5.1,4.6,5.3,5.0],\"y\":[3.5,3.0,3.2,3.1,3.6,3.9,3.4,3.4,2.9,3.1,3.7,3.4,3.0,3.0,4.0,4.4,3.9,3.5,3.8,3.8,3.4,3.7,3.6,3.3,3.4,3.0,3.4,3.5,3.4,3.2,3.1,3.4,4.1,4.2,3.1,3.2,3.5,3.1,3.0,3.4,3.5,2.3,3.2,3.5,3.8,3.0,3.8,3.2,3.7,3.3],\"z\":[0.2,0.2,0.2,0.2,0.2,0.4,0.3,0.2,0.2,0.1,0.2,0.2,0.1,0.1,0.2,0.4,0.4,0.3,0.3,0.3,0.2,0.4,0.2,0.5,0.2,0.2,0.4,0.2,0.2,0.2,0.2,0.4,0.1,0.2,0.1,0.2,0.2,0.1,0.2,0.2,0.3,0.3,0.2,0.6,0.4,0.3,0.2,0.2,0.2,0.2],\"type\":\"scatter3d\"},{\"hovertemplate\":\"species=versicolor\\u003cbr\\u003esepal_length=%{x}\\u003cbr\\u003esepal_width=%{y}\\u003cbr\\u003epetal_width=%{z}\\u003cextra\\u003e\\u003c\\u002fextra\\u003e\",\"legendgroup\":\"versicolor\",\"marker\":{\"color\":\"#EF553B\",\"symbol\":\"circle\"},\"mode\":\"markers\",\"name\":\"versicolor\",\"scene\":\"scene\",\"showlegend\":true,\"x\":[7.0,6.4,6.9,5.5,6.5,5.7,6.3,4.9,6.6,5.2,5.0,5.9,6.0,6.1,5.6,6.7,5.6,5.8,6.2,5.6,5.9,6.1,6.3,6.1,6.4,6.6,6.8,6.7,6.0,5.7,5.5,5.5,5.8,6.0,5.4,6.0,6.7,6.3,5.6,5.5,5.5,6.1,5.8,5.0,5.6,5.7,5.7,6.2,5.1,5.7],\"y\":[3.2,3.2,3.1,2.3,2.8,2.8,3.3,2.4,2.9,2.7,2.0,3.0,2.2,2.9,2.9,3.1,3.0,2.7,2.2,2.5,3.2,2.8,2.5,2.8,2.9,3.0,2.8,3.0,2.9,2.6,2.4,2.4,2.7,2.7,3.0,3.4,3.1,2.3,3.0,2.5,2.6,3.0,2.6,2.3,2.7,3.0,2.9,2.9,2.5,2.8],\"z\":[1.4,1.5,1.5,1.3,1.5,1.3,1.6,1.0,1.3,1.4,1.0,1.5,1.0,1.4,1.3,1.4,1.5,1.0,1.5,1.1,1.8,1.3,1.5,1.2,1.3,1.4,1.4,1.7,1.5,1.0,1.1,1.0,1.2,1.6,1.5,1.6,1.5,1.3,1.3,1.3,1.2,1.4,1.2,1.0,1.3,1.2,1.3,1.3,1.1,1.3],\"type\":\"scatter3d\"},{\"hovertemplate\":\"species=virginica\\u003cbr\\u003esepal_length=%{x}\\u003cbr\\u003esepal_width=%{y}\\u003cbr\\u003epetal_width=%{z}\\u003cextra\\u003e\\u003c\\u002fextra\\u003e\",\"legendgroup\":\"virginica\",\"marker\":{\"color\":\"#00cc96\",\"symbol\":\"circle\"},\"mode\":\"markers\",\"name\":\"virginica\",\"scene\":\"scene\",\"showlegend\":true,\"x\":[6.3,5.8,7.1,6.3,6.5,7.6,4.9,7.3,6.7,7.2,6.5,6.4,6.8,5.7,5.8,6.4,6.5,7.7,7.7,6.0,6.9,5.6,7.7,6.3,6.7,7.2,6.2,6.1,6.4,7.2,7.4,7.9,6.4,6.3,6.1,7.7,6.3,6.4,6.0,6.9,6.7,6.9,5.8,6.8,6.7,6.7,6.3,6.5,6.2,5.9],\"y\":[3.3,2.7,3.0,2.9,3.0,3.0,2.5,2.9,2.5,3.6,3.2,2.7,3.0,2.5,2.8,3.2,3.0,3.8,2.6,2.2,3.2,2.8,2.8,2.7,3.3,3.2,2.8,3.0,2.8,3.0,2.8,3.8,2.8,2.8,2.6,3.0,3.4,3.1,3.0,3.1,3.1,3.1,2.7,3.2,3.3,3.0,2.5,3.0,3.4,3.0],\"z\":[2.5,1.9,2.1,1.8,2.2,2.1,1.7,1.8,1.8,2.5,2.0,1.9,2.1,2.0,2.4,2.3,1.8,2.2,2.3,1.5,2.3,2.0,2.0,1.8,2.1,1.8,1.8,1.8,2.1,1.6,1.9,2.0,2.2,1.5,1.4,2.3,2.4,1.8,1.8,2.1,2.4,2.3,1.9,2.3,2.5,2.3,1.9,2.0,2.3,1.8],\"type\":\"scatter3d\"}],                        {\"template\":{\"data\":{\"histogram2dcontour\":[{\"type\":\"histogram2dcontour\",\"colorbar\":{\"outlinewidth\":0,\"ticks\":\"\"},\"colorscale\":[[0.0,\"#0d0887\"],[0.1111111111111111,\"#46039f\"],[0.2222222222222222,\"#7201a8\"],[0.3333333333333333,\"#9c179e\"],[0.4444444444444444,\"#bd3786\"],[0.5555555555555556,\"#d8576b\"],[0.6666666666666666,\"#ed7953\"],[0.7777777777777778,\"#fb9f3a\"],[0.8888888888888888,\"#fdca26\"],[1.0,\"#f0f921\"]]}],\"choropleth\":[{\"type\":\"choropleth\",\"colorbar\":{\"outlinewidth\":0,\"ticks\":\"\"}}],\"histogram2d\":[{\"type\":\"histogram2d\",\"colorbar\":{\"outlinewidth\":0,\"ticks\":\"\"},\"colorscale\":[[0.0,\"#0d0887\"],[0.1111111111111111,\"#46039f\"],[0.2222222222222222,\"#7201a8\"],[0.3333333333333333,\"#9c179e\"],[0.4444444444444444,\"#bd3786\"],[0.5555555555555556,\"#d8576b\"],[0.6666666666666666,\"#ed7953\"],[0.7777777777777778,\"#fb9f3a\"],[0.8888888888888888,\"#fdca26\"],[1.0,\"#f0f921\"]]}],\"heatmap\":[{\"type\":\"heatmap\",\"colorbar\":{\"outlinewidth\":0,\"ticks\":\"\"},\"colorscale\":[[0.0,\"#0d0887\"],[0.1111111111111111,\"#46039f\"],[0.2222222222222222,\"#7201a8\"],[0.3333333333333333,\"#9c179e\"],[0.4444444444444444,\"#bd3786\"],[0.5555555555555556,\"#d8576b\"],[0.6666666666666666,\"#ed7953\"],[0.7777777777777778,\"#fb9f3a\"],[0.8888888888888888,\"#fdca26\"],[1.0,\"#f0f921\"]]}],\"heatmapgl\":[{\"type\":\"heatmapgl\",\"colorbar\":{\"outlinewidth\":0,\"ticks\":\"\"},\"colorscale\":[[0.0,\"#0d0887\"],[0.1111111111111111,\"#46039f\"],[0.2222222222222222,\"#7201a8\"],[0.3333333333333333,\"#9c179e\"],[0.4444444444444444,\"#bd3786\"],[0.5555555555555556,\"#d8576b\"],[0.6666666666666666,\"#ed7953\"],[0.7777777777777778,\"#fb9f3a\"],[0.8888888888888888,\"#fdca26\"],[1.0,\"#f0f921\"]]}],\"contourcarpet\":[{\"type\":\"contourcarpet\",\"colorbar\":{\"outlinewidth\":0,\"ticks\":\"\"}}],\"contour\":[{\"type\":\"contour\",\"colorbar\":{\"outlinewidth\":0,\"ticks\":\"\"},\"colorscale\":[[0.0,\"#0d0887\"],[0.1111111111111111,\"#46039f\"],[0.2222222222222222,\"#7201a8\"],[0.3333333333333333,\"#9c179e\"],[0.4444444444444444,\"#bd3786\"],[0.5555555555555556,\"#d8576b\"],[0.6666666666666666,\"#ed7953\"],[0.7777777777777778,\"#fb9f3a\"],[0.8888888888888888,\"#fdca26\"],[1.0,\"#f0f921\"]]}],\"surface\":[{\"type\":\"surface\",\"colorbar\":{\"outlinewidth\":0,\"ticks\":\"\"},\"colorscale\":[[0.0,\"#0d0887\"],[0.1111111111111111,\"#46039f\"],[0.2222222222222222,\"#7201a8\"],[0.3333333333333333,\"#9c179e\"],[0.4444444444444444,\"#bd3786\"],[0.5555555555555556,\"#d8576b\"],[0.6666666666666666,\"#ed7953\"],[0.7777777777777778,\"#fb9f3a\"],[0.8888888888888888,\"#fdca26\"],[1.0,\"#f0f921\"]]}],\"mesh3d\":[{\"type\":\"mesh3d\",\"colorbar\":{\"outlinewidth\":0,\"ticks\":\"\"}}],\"scatter\":[{\"fillpattern\":{\"fillmode\":\"overlay\",\"size\":10,\"solidity\":0.2},\"type\":\"scatter\"}],\"parcoords\":[{\"type\":\"parcoords\",\"line\":{\"colorbar\":{\"outlinewidth\":0,\"ticks\":\"\"}}}],\"scatterpolargl\":[{\"type\":\"scatterpolargl\",\"marker\":{\"colorbar\":{\"outlinewidth\":0,\"ticks\":\"\"}}}],\"bar\":[{\"error_x\":{\"color\":\"#2a3f5f\"},\"error_y\":{\"color\":\"#2a3f5f\"},\"marker\":{\"line\":{\"color\":\"#E5ECF6\",\"width\":0.5},\"pattern\":{\"fillmode\":\"overlay\",\"size\":10,\"solidity\":0.2}},\"type\":\"bar\"}],\"scattergeo\":[{\"type\":\"scattergeo\",\"marker\":{\"colorbar\":{\"outlinewidth\":0,\"ticks\":\"\"}}}],\"scatterpolar\":[{\"type\":\"scatterpolar\",\"marker\":{\"colorbar\":{\"outlinewidth\":0,\"ticks\":\"\"}}}],\"histogram\":[{\"marker\":{\"pattern\":{\"fillmode\":\"overlay\",\"size\":10,\"solidity\":0.2}},\"type\":\"histogram\"}],\"scattergl\":[{\"type\":\"scattergl\",\"marker\":{\"colorbar\":{\"outlinewidth\":0,\"ticks\":\"\"}}}],\"scatter3d\":[{\"type\":\"scatter3d\",\"line\":{\"colorbar\":{\"outlinewidth\":0,\"ticks\":\"\"}},\"marker\":{\"colorbar\":{\"outlinewidth\":0,\"ticks\":\"\"}}}],\"scattermapbox\":[{\"type\":\"scattermapbox\",\"marker\":{\"colorbar\":{\"outlinewidth\":0,\"ticks\":\"\"}}}],\"scatterternary\":[{\"type\":\"scatterternary\",\"marker\":{\"colorbar\":{\"outlinewidth\":0,\"ticks\":\"\"}}}],\"scattercarpet\":[{\"type\":\"scattercarpet\",\"marker\":{\"colorbar\":{\"outlinewidth\":0,\"ticks\":\"\"}}}],\"carpet\":[{\"aaxis\":{\"endlinecolor\":\"#2a3f5f\",\"gridcolor\":\"white\",\"linecolor\":\"white\",\"minorgridcolor\":\"white\",\"startlinecolor\":\"#2a3f5f\"},\"baxis\":{\"endlinecolor\":\"#2a3f5f\",\"gridcolor\":\"white\",\"linecolor\":\"white\",\"minorgridcolor\":\"white\",\"startlinecolor\":\"#2a3f5f\"},\"type\":\"carpet\"}],\"table\":[{\"cells\":{\"fill\":{\"color\":\"#EBF0F8\"},\"line\":{\"color\":\"white\"}},\"header\":{\"fill\":{\"color\":\"#C8D4E3\"},\"line\":{\"color\":\"white\"}},\"type\":\"table\"}],\"barpolar\":[{\"marker\":{\"line\":{\"color\":\"#E5ECF6\",\"width\":0.5},\"pattern\":{\"fillmode\":\"overlay\",\"size\":10,\"solidity\":0.2}},\"type\":\"barpolar\"}],\"pie\":[{\"automargin\":true,\"type\":\"pie\"}]},\"layout\":{\"autotypenumbers\":\"strict\",\"colorway\":[\"#636efa\",\"#EF553B\",\"#00cc96\",\"#ab63fa\",\"#FFA15A\",\"#19d3f3\",\"#FF6692\",\"#B6E880\",\"#FF97FF\",\"#FECB52\"],\"font\":{\"color\":\"#2a3f5f\"},\"hovermode\":\"closest\",\"hoverlabel\":{\"align\":\"left\"},\"paper_bgcolor\":\"white\",\"plot_bgcolor\":\"#E5ECF6\",\"polar\":{\"bgcolor\":\"#E5ECF6\",\"angularaxis\":{\"gridcolor\":\"white\",\"linecolor\":\"white\",\"ticks\":\"\"},\"radialaxis\":{\"gridcolor\":\"white\",\"linecolor\":\"white\",\"ticks\":\"\"}},\"ternary\":{\"bgcolor\":\"#E5ECF6\",\"aaxis\":{\"gridcolor\":\"white\",\"linecolor\":\"white\",\"ticks\":\"\"},\"baxis\":{\"gridcolor\":\"white\",\"linecolor\":\"white\",\"ticks\":\"\"},\"caxis\":{\"gridcolor\":\"white\",\"linecolor\":\"white\",\"ticks\":\"\"}},\"coloraxis\":{\"colorbar\":{\"outlinewidth\":0,\"ticks\":\"\"}},\"colorscale\":{\"sequential\":[[0.0,\"#0d0887\"],[0.1111111111111111,\"#46039f\"],[0.2222222222222222,\"#7201a8\"],[0.3333333333333333,\"#9c179e\"],[0.4444444444444444,\"#bd3786\"],[0.5555555555555556,\"#d8576b\"],[0.6666666666666666,\"#ed7953\"],[0.7777777777777778,\"#fb9f3a\"],[0.8888888888888888,\"#fdca26\"],[1.0,\"#f0f921\"]],\"sequentialminus\":[[0.0,\"#0d0887\"],[0.1111111111111111,\"#46039f\"],[0.2222222222222222,\"#7201a8\"],[0.3333333333333333,\"#9c179e\"],[0.4444444444444444,\"#bd3786\"],[0.5555555555555556,\"#d8576b\"],[0.6666666666666666,\"#ed7953\"],[0.7777777777777778,\"#fb9f3a\"],[0.8888888888888888,\"#fdca26\"],[1.0,\"#f0f921\"]],\"diverging\":[[0,\"#8e0152\"],[0.1,\"#c51b7d\"],[0.2,\"#de77ae\"],[0.3,\"#f1b6da\"],[0.4,\"#fde0ef\"],[0.5,\"#f7f7f7\"],[0.6,\"#e6f5d0\"],[0.7,\"#b8e186\"],[0.8,\"#7fbc41\"],[0.9,\"#4d9221\"],[1,\"#276419\"]]},\"xaxis\":{\"gridcolor\":\"white\",\"linecolor\":\"white\",\"ticks\":\"\",\"title\":{\"standoff\":15},\"zerolinecolor\":\"white\",\"automargin\":true,\"zerolinewidth\":2},\"yaxis\":{\"gridcolor\":\"white\",\"linecolor\":\"white\",\"ticks\":\"\",\"title\":{\"standoff\":15},\"zerolinecolor\":\"white\",\"automargin\":true,\"zerolinewidth\":2},\"scene\":{\"xaxis\":{\"backgroundcolor\":\"#E5ECF6\",\"gridcolor\":\"white\",\"linecolor\":\"white\",\"showbackground\":true,\"ticks\":\"\",\"zerolinecolor\":\"white\",\"gridwidth\":2},\"yaxis\":{\"backgroundcolor\":\"#E5ECF6\",\"gridcolor\":\"white\",\"linecolor\":\"white\",\"showbackground\":true,\"ticks\":\"\",\"zerolinecolor\":\"white\",\"gridwidth\":2},\"zaxis\":{\"backgroundcolor\":\"#E5ECF6\",\"gridcolor\":\"white\",\"linecolor\":\"white\",\"showbackground\":true,\"ticks\":\"\",\"zerolinecolor\":\"white\",\"gridwidth\":2}},\"shapedefaults\":{\"line\":{\"color\":\"#2a3f5f\"}},\"annotationdefaults\":{\"arrowcolor\":\"#2a3f5f\",\"arrowhead\":0,\"arrowwidth\":1},\"geo\":{\"bgcolor\":\"white\",\"landcolor\":\"#E5ECF6\",\"subunitcolor\":\"white\",\"showland\":true,\"showlakes\":true,\"lakecolor\":\"white\"},\"title\":{\"x\":0.05},\"mapbox\":{\"style\":\"light\"}}},\"scene\":{\"domain\":{\"x\":[0.0,1.0],\"y\":[0.0,1.0]},\"xaxis\":{\"title\":{\"text\":\"sepal_length\"}},\"yaxis\":{\"title\":{\"text\":\"sepal_width\"}},\"zaxis\":{\"title\":{\"text\":\"petal_width\"}}},\"legend\":{\"title\":{\"text\":\"species\"},\"tracegroupgap\":0},\"margin\":{\"t\":60}},                        {\"responsive\": true}                    ).then(function(){\n",
              "                            \n",
              "var gd = document.getElementById('c722d7ef-e4f8-4672-a9ee-ec120fe55059');\n",
              "var x = new MutationObserver(function (mutations, observer) {{\n",
              "        var display = window.getComputedStyle(gd).display;\n",
              "        if (!display || display === 'none') {{\n",
              "            console.log([gd, 'removed!']);\n",
              "            Plotly.purge(gd);\n",
              "            observer.disconnect();\n",
              "        }}\n",
              "}});\n",
              "\n",
              "// Listen for the removal of the full notebook cells\n",
              "var notebookContainer = gd.closest('#notebook-container');\n",
              "if (notebookContainer) {{\n",
              "    x.observe(notebookContainer, {childList: true});\n",
              "}}\n",
              "\n",
              "// Listen for the clearing of the current output cell\n",
              "var outputEl = gd.closest('.output');\n",
              "if (outputEl) {{\n",
              "    x.observe(outputEl, {childList: true});\n",
              "}}\n",
              "\n",
              "                        })                };                            </script>        </div>\n",
              "</body>\n",
              "</html>"
            ]
          },
          "metadata": {}
        }
      ]
    }
  ]
}